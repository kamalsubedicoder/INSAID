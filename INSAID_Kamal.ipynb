{
  "cells": [
    {
      "cell_type": "code",
      "execution_count": null,
      "metadata": {
        "colab": {
          "base_uri": "https://localhost:8080/",
          "height": 639
        },
        "id": "6vGIgoIqeb8e",
        "outputId": "b2296d8c-7e2b-42ae-9a0e-f212b1e85638"
      },
      "outputs": [
        {
          "output_type": "error",
          "ename": "ModuleNotFoundError",
          "evalue": "ignored",
          "traceback": [
            "\u001b[0;31m---------------------------------------------------------------------------\u001b[0m",
            "\u001b[0;31mModuleNotFoundError\u001b[0m                       Traceback (most recent call last)",
            "\u001b[0;32m<ipython-input-2-8ffa25f03efa>\u001b[0m in \u001b[0;36m<module>\u001b[0;34m\u001b[0m\n\u001b[1;32m      6\u001b[0m \u001b[0;32mimport\u001b[0m \u001b[0mseaborn\u001b[0m \u001b[0;32mas\u001b[0m \u001b[0msns\u001b[0m\u001b[0;34m\u001b[0m\u001b[0;34m\u001b[0m\u001b[0m\n\u001b[1;32m      7\u001b[0m \u001b[0;32mfrom\u001b[0m \u001b[0mscipy\u001b[0m   \u001b[0;32mimport\u001b[0m \u001b[0mstats\u001b[0m\u001b[0;34m\u001b[0m\u001b[0;34m\u001b[0m\u001b[0m\n\u001b[0;32m----> 8\u001b[0;31m \u001b[0;32mfrom\u001b[0m \u001b[0mcategory_encoders\u001b[0m \u001b[0;32mimport\u001b[0m \u001b[0mOneHotEncoder\u001b[0m\u001b[0;34m\u001b[0m\u001b[0;34m\u001b[0m\u001b[0m\n\u001b[0m\u001b[1;32m      9\u001b[0m \u001b[0;32mfrom\u001b[0m \u001b[0mscipy\u001b[0m   \u001b[0;32mimport\u001b[0m \u001b[0mstats\u001b[0m\u001b[0;34m\u001b[0m\u001b[0;34m\u001b[0m\u001b[0m\n\u001b[1;32m     10\u001b[0m \u001b[0;32mfrom\u001b[0m \u001b[0mcategory_encoders\u001b[0m \u001b[0;32mimport\u001b[0m \u001b[0mOneHotEncoder\u001b[0m\u001b[0;34m\u001b[0m\u001b[0;34m\u001b[0m\u001b[0m\n",
            "\u001b[0;31mModuleNotFoundError\u001b[0m: No module named 'category_encoders'",
            "",
            "\u001b[0;31m---------------------------------------------------------------------------\u001b[0;32m\nNOTE: If your import is failing due to a missing package, you can\nmanually install dependencies using either !pip or !apt.\n\nTo view examples of installing some common dependencies, click the\n\"Open Examples\" button below.\n\u001b[0;31m---------------------------------------------------------------------------\u001b[0m\n"
          ],
          "errorDetails": {
            "actions": [
              {
                "action": "open_url",
                "actionText": "Open Examples",
                "url": "/notebooks/snippets/importing_libraries.ipynb"
              }
            ]
          }
        }
      ],
      "source": [
        "# import libraries\n",
        "\n",
        "import numpy as np\n",
        "import pandas as pd\n",
        "import matplotlib.pyplot as plt\n",
        "import seaborn as sns\n",
        "from scipy   import stats\n",
        "from category_encoders import OneHotEncoder\n",
        "from scipy   import stats\n",
        "from category_encoders import OneHotEncoder\n",
        "\n",
        "from sklearn.svm          import SVC\n",
        "from sklearn.dummy        import DummyClassifier\n",
        "from sklearn.ensemble     import RandomForestClassifier\n",
        "from sklearn.neighbors    import KNeighborsClassifier\n",
        "from sklearn.linear_model import LogisticRegression\n",
        "\n",
        "from sklearn.metrics         import balanced_accuracy_score, precision_score, classification_report\n",
        "from sklearn.metrics         import recall_score, f1_score, make_scorer, cohen_kappa_score\n",
        "from sklearn.preprocessing   import MinMaxScaler\n",
        "from sklearn.model_selection import GridSearchCV, train_test_split, StratifiedKFold"
      ]
    },
    {
      "cell_type": "code",
      "execution_count": null,
      "metadata": {
        "id": "Fv0FdE3Veb8j"
      },
      "outputs": [],
      "source": [
        "# importing the dataset\n",
        "data = pd.read_csv('Fraud.csv')\n",
        "data.head(15)"
      ]
    },
    {
      "cell_type": "code",
      "execution_count": null,
      "metadata": {
        "id": "zXXxbRPReb8j"
      },
      "outputs": [],
      "source": [
        "data.columns"
      ]
    },
    {
      "cell_type": "code",
      "execution_count": null,
      "metadata": {
        "id": "rYkkUg7Veb8k"
      },
      "outputs": [],
      "source": [
        "#Checking data type\n",
        "data.info()"
      ]
    },
    {
      "cell_type": "code",
      "execution_count": null,
      "metadata": {
        "id": "UTipEjZdeb8k",
        "outputId": "0681224f-b315-42e9-d003-0991f8d5ebe1"
      },
      "outputs": [
        {
          "data": {
            "text/plain": [
              "step              0\n",
              "type              0\n",
              "amount            0\n",
              "nameOrig          0\n",
              "oldbalanceOrg     0\n",
              "newbalanceOrig    0\n",
              "nameDest          0\n",
              "oldbalanceDest    0\n",
              "newbalanceDest    0\n",
              "isFraud           0\n",
              "isFlaggedFraud    0\n",
              "dtype: int64"
            ]
          },
          "execution_count": 13,
          "metadata": {},
          "output_type": "execute_result"
        }
      ],
      "source": [
        "# Handling Missing Values\n",
        "data.isnull().sum()"
      ]
    },
    {
      "cell_type": "markdown",
      "metadata": {
        "id": "XiU4ALVzeb8m"
      },
      "source": [
        "#### As seen above:\n",
        "\n",
        "##### There is no NaN values at all in the dataset."
      ]
    },
    {
      "cell_type": "code",
      "execution_count": null,
      "metadata": {
        "id": "jFpxCuVFeb8n",
        "outputId": "c3788024-0878-401c-eb76-7bd9003eac49"
      },
      "outputs": [
        {
          "data": {
            "text/plain": [
              "0    6354407\n",
              "1       8213\n",
              "Name: isFraud, dtype: int64"
            ]
          },
          "execution_count": 22,
          "metadata": {},
          "output_type": "execute_result"
        }
      ],
      "source": [
        "#checking how many frauds are there\n",
        "\n",
        "data['isFraud'].value_counts()"
      ]
    },
    {
      "cell_type": "code",
      "execution_count": null,
      "metadata": {
        "id": "ntyrKchEeb8o",
        "outputId": "6089951b-7fa9-456c-e68d-176d30cd48ee"
      },
      "outputs": [
        {
          "data": {
            "image/png": "[encoded data removed]",
            "text/plain": [
              "<Figure size 720x720 with 1 Axes>"
            ]
          },
          "metadata": {},
          "output_type": "display_data"
        }
      ],
      "source": [
        "#Data Exploraory\n",
        "\n",
        "labels = ['Not a Fraud', 'Fraud']\n",
        "colors = ['pink', 'black']\n",
        "size = [6354407, 8213]\n",
        "explode = [0.1, 0.21]\n",
        "\n",
        "plt.rcParams['figure.figsize'] = (10, 10)\n",
        "plt.pie(size, labels = labels, colors = colors, explode = explode, shadow = True)\n",
        "plt.axis('off')\n",
        "plt.title('A pie chart representing share of frauds amongst the customers',fontsize = 20)\n",
        "plt.legend()\n",
        "plt.show()"
      ]
    },
    {
      "cell_type": "code",
      "execution_count": null,
      "metadata": {
        "id": "0efHkZ2Qeb8p",
        "outputId": "4f9748ff-5d42-4a5a-8ac1-e84530b075d6"
      },
      "outputs": [
        {
          "data": {
            "text/plain": [
              "0    6362604\n",
              "1         16\n",
              "Name: isFlaggedFraud, dtype: int64"
            ]
          },
          "execution_count": 24,
          "metadata": {},
          "output_type": "execute_result"
        }
      ],
      "source": [
        "data['isFlaggedFraud'].value_counts()"
      ]
    },
    {
      "cell_type": "code",
      "execution_count": null,
      "metadata": {
        "id": "JR6bm2y1eb8p",
        "outputId": "a6b1cdc6-c943-4e4f-a130-ffb78bfa0438"
      },
      "outputs": [
        {
          "data": {
            "image/png": "[encoded data removed]",
            "text/plain": [
              "<Figure size 720x720 with 1 Axes>"
            ]
          },
          "metadata": {},
          "output_type": "display_data"
        }
      ],
      "source": [
        "labels = ['Not a Flagged Fraud', 'Flagged Fraud']\n",
        "colors = ['lightblue', 'black']\n",
        "size = [6354407, 8213]\n",
        "explode = [0.1, 0.21]\n",
        "\n",
        "plt.rcParams['figure.figsize'] = (10, 10)\n",
        "plt.pie(size, labels = labels, colors = colors, explode = explode, shadow = True)\n",
        "plt.axis('off')\n",
        "plt.title('A pie chart representing share of flagged frauds amongst the customers',fontsize = 20)\n",
        "plt.legend()\n",
        "plt.show()"
      ]
    },
    {
      "cell_type": "code",
      "execution_count": null,
      "metadata": {
        "id": "sniWqmUXeb8q",
        "outputId": "e1dbb40f-829d-4e2f-c70f-e8931575eeef"
      },
      "outputs": [
        {
          "data": {
            "text/plain": [
              "CASH_OUT    2237500\n",
              "PAYMENT     2151495\n",
              "CASH_IN     1399284\n",
              "TRANSFER     532909\n",
              "DEBIT         41432\n",
              "Name: type, dtype: int64"
            ]
          },
          "execution_count": 26,
          "metadata": {},
          "output_type": "execute_result"
        }
      ],
      "source": [
        "data['type'].value_counts()"
      ]
    },
    {
      "cell_type": "code",
      "execution_count": null,
      "metadata": {
        "id": "DQD1_MEzeb8q",
        "outputId": "84279ffc-e15c-41df-bce8-539fcd9adca6"
      },
      "outputs": [
        {
          "data": {
            "image/png": "[encoded data removed]",
            "text/plain": [
              "<Figure size 720x720 with 1 Axes>"
            ]
          },
          "metadata": {},
          "output_type": "display_data"
        }
      ],
      "source": [
        "labels = ['Cash-out', 'Payment', 'Cash-in', 'Transfer', 'Debit']\n",
        "size = [2237500, 2151495, 1399284, 532909, 41432]\n",
        "colors = ['pink', 'lightgreen', 'lightblue', 'orange', 'yellow']\n",
        "explode = [0.1, 0.1, 0.1, 0.1, 0.1]\n",
        "\n",
        "plt.rcParams['figure.figsize'] = (10, 10)\n",
        "plt.pie(size, colors = colors, explode = explode, labels = labels, shadow = True)\n",
        "plt.title('A pie chart representing different types of money transactions', fontsize = 20)\n",
        "plt.axis('off')\n",
        "plt.legend()\n",
        "plt.show()"
      ]
    },
    {
      "cell_type": "code",
      "execution_count": null,
      "metadata": {
        "id": "6HGZ90lKeb8r",
        "outputId": "cb353b81-ca7e-43a4-ffcc-abe8894e1c02"
      },
      "outputs": [
        {
          "name": "stdout",
          "output_type": "stream",
          "text": [
            "Number of steps involved in transactions are : 428\n"
          ]
        }
      ],
      "source": [
        "# checking the different types of steps involved in transactions\n",
        "\n",
        "x = data['step'].value_counts().nunique()\n",
        "\n",
        "# printing the result\n",
        "print(\"Number of steps involved in transactions are :\", x)"
      ]
    },
    {
      "cell_type": "code",
      "execution_count": null,
      "metadata": {
        "id": "kXAMS5n8eb8r",
        "outputId": "7ee88c15-3a8e-4222-8505-8e393338b337"
      },
      "outputs": [
        {
          "data": {
            "image/png": "[encoded data removed]",
            "text/plain": [
              "<Figure size 1008x504 with 1 Axes>"
            ]
          },
          "metadata": {
            "needs_background": "light"
          },
          "output_type": "display_data"
        }
      ],
      "source": [
        "# setting thesze of the figure\n",
        "plt.rcParams['figure.figsize'] =(14, 7)\n",
        "\n",
        "# importing norm\n",
        "from scipy.stats import norm\n",
        "\n",
        "sns.distplot(data.step, fit = norm, kde = False)\n",
        "plt.title('Distribution Plot for steps', fontsize = 20)\n",
        "plt.xlabel('Step', fontsize = 10)\n",
        "plt.show()"
      ]
    },
    {
      "cell_type": "code",
      "execution_count": null,
      "metadata": {
        "id": "tQPAS0KDeb8s",
        "outputId": "64cc3b59-35df-491c-9775-a57cda3de4a6"
      },
      "outputs": [
        {
          "data": {
            "image/png": "[encoded data removed]",
            "text/plain": [
              "<Figure size 720x504 with 1 Axes>"
            ]
          },
          "metadata": {
            "needs_background": "light"
          },
          "output_type": "display_data"
        }
      ],
      "source": [
        "# checking the different values of amounts transationed\n",
        "\n",
        "plt.rcParams['figure.figsize'] = (10, 7)\n",
        "\n",
        "data['amount'].value_counts().head(15).plot.bar()\n",
        "plt.title('15 Most Common Transaction amounts', fontsize = 20)\n",
        "plt.xlabel('Amounts')\n",
        "plt.ylabel('count')\n",
        "plt.show()"
      ]
    },
    {
      "cell_type": "code",
      "execution_count": null,
      "metadata": {
        "id": "t0gujMqzeb8t",
        "outputId": "f75ec71a-6020-4ddb-bbd9-b584a9a823a5"
      },
      "outputs": [
        {
          "name": "stdout",
          "output_type": "stream",
          "text": [
            "The Types of fraudulent transactions are ['TRANSFER', 'CASH_OUT']\n"
          ]
        }
      ],
      "source": [
        "# finding  out the types of fraudulent transaction types out of all the transaction modes.\n",
        "\n",
        "print('The Types of fraudulent transactions are {}'.format(list(data.loc[data.isFraud == 1].type.drop_duplicates().values)) )"
      ]
    },
    {
      "cell_type": "code",
      "execution_count": null,
      "metadata": {
        "id": "F3YKIhXieb8u",
        "outputId": "5c4e0413-c8fb-4a5c-c71c-4ae127dcee1e"
      },
      "outputs": [
        {
          "name": "stdout",
          "output_type": "stream",
          "text": [
            "The number of fraudulent TRANSFERs = 4097\n",
            "The number of fraudulent CASH_OUTs = 4116\n"
          ]
        }
      ],
      "source": [
        "# figuring out the fraud transfer and fraud cash outs\n",
        "dfFraudTransfer = data.loc[(data.isFraud == 1) & (data.type == 'TRANSFER')]\n",
        "dfFraudCashout = data.loc[(data.isFraud == 1) & (data.type == 'CASH_OUT')]\n",
        "\n",
        "\n",
        "#printing the number of fraudulent transfers ans cash outs\n",
        "print ('The number of fraudulent TRANSFERs = {}'.format(len(dfFraudTransfer)))\n",
        "print ('The number of fraudulent CASH_OUTs = {}'.format(len(dfFraudCashout)))"
      ]
    },
    {
      "cell_type": "code",
      "execution_count": null,
      "metadata": {
        "id": "P6K3hXJ_eb8v",
        "outputId": "31a10271-fc16-405d-cf43-b1f0d466eef4"
      },
      "outputs": [
        {
          "name": "stdout",
          "output_type": "stream",
          "text": [
            "Transfer Transaction\n",
            "Minimum Transaction : 63.8\n",
            "Maximum Transaction : 10000000.0\n",
            "\n",
            "CASH_OUT Transaction\n",
            "Minimum Transaction : 0.0\n",
            "Maximum Transaction : 10000000.0\n"
          ]
        }
      ],
      "source": [
        "# finding out the minimum and maximum transaction from Transfer and cash out transaction mode when it is set to be Fraud\n",
        "\n",
        "print(\"Transfer Transaction\")\n",
        "print(\"Minimum Transaction :\", data.loc[(data.isFraud == 1) & (data.type == 'TRANSFER')].amount.min())\n",
        "print(\"Maximum Transaction :\", data.loc[(data.isFraud == 1) & (data.type == 'TRANSFER')].amount.max())\n",
        "\n",
        "print(\"\\nCASH_OUT Transaction\")\n",
        "print(\"Minimum Transaction :\", data.loc[(data.isFraud == 1) & (data.type == 'CASH_OUT')].amount.min())\n",
        "print(\"Maximum Transaction :\", data.loc[(data.isFraud == 1) & (data.type == 'CASH_OUT')].amount.max())"
      ]
    },
    {
      "cell_type": "code",
      "execution_count": null,
      "metadata": {
        "id": "TvaESaK5eb8w",
        "outputId": "3cca6c35-94c7-4ca6-c3e3-5e786ed70dae"
      },
      "outputs": [
        {
          "name": "stdout",
          "output_type": "stream",
          "text": [
            "The Type of Transaction in which IsFlagged is set : ['TRANSFER']\n"
          ]
        }
      ],
      "source": [
        "#finding out the transactions which are flagged to be fraud\n",
        "\n",
        "print(\"The Type of Transaction in which IsFlagged is set :\", data.loc[data.isFlaggedFraud == 1].type.drop_duplicates().values)"
      ]
    },
    {
      "cell_type": "code",
      "execution_count": null,
      "metadata": {
        "id": "GeYNNm6eeb8w",
        "outputId": "d3e555ff-5351-45b5-93e4-bb87141d576c"
      },
      "outputs": [
        {
          "name": "stdout",
          "output_type": "stream",
          "text": [
            "The no. of Flagged Fraudulent Transactions : 16\n",
            "Minimum Transaction : 353874.22\n",
            "Maximum Transaction : 10000000.0\n"
          ]
        }
      ],
      "source": [
        "# figuringing out the no. of flagged fraudulent transactions\n",
        "FlaggedFraud = data.loc[(data.isFlaggedFraud == 1) & (data.type == 'TRANSFER')]\n",
        "print(\"The no. of Flagged Fraudulent Transactions :\", len(FlaggedFraud))\n",
        "\n",
        "# printing the minimum and maximum transactions done when FlaggedFraud is set\n",
        "# the Transaction mode being Transfer\n",
        "print(\"Minimum Transaction :\", data.loc[data.isFlaggedFraud == 1].amount.min())\n",
        "print(\"Maximum Transaction :\", data.loc[data.isFlaggedFraud == 1].amount.max())"
      ]
    },
    {
      "cell_type": "code",
      "execution_count": null,
      "metadata": {
        "id": "jeILChLqeb8x",
        "outputId": "7f2deec5-81ed-476e-ede2-38ae6f4df6a3"
      },
      "outputs": [
        {
          "name": "stdout",
          "output_type": "stream",
          "text": [
            "Figuring out the no. of transactions where old balance dest. and new balance dest. are 0 being FlaggedFraud :          step      type      amount     nameOrig  oldbalanceOrg  \\\n",
            "0           1   PAYMENT     9839.64  C1231006815      170136.00   \n",
            "1           1   PAYMENT     1864.28  C1666544295       21249.00   \n",
            "2           1  TRANSFER      181.00  C1305486145         181.00   \n",
            "4           1   PAYMENT    11668.14  C2048537720       41554.00   \n",
            "5           1   PAYMENT     7817.71    C90045638       53860.00   \n",
            "...       ...       ...         ...          ...            ...   \n",
            "6362610   742  TRANSFER    63416.99   C778071008       63416.99   \n",
            "6362612   743  TRANSFER  1258818.82  C1531301470     1258818.82   \n",
            "6362614   743  TRANSFER   339682.13  C2013999242      339682.13   \n",
            "6362616   743  TRANSFER  6311409.28  C1529008245     6311409.28   \n",
            "6362618   743  TRANSFER   850002.52  C1685995037      850002.52   \n",
            "\n",
            "         newbalanceOrig     nameDest  oldbalanceDest  newbalanceDest  isFraud  \\\n",
            "0             160296.36  M1979787155             0.0             0.0        0   \n",
            "1              19384.72  M2044282225             0.0             0.0        0   \n",
            "2                  0.00   C553264065             0.0             0.0        1   \n",
            "4              29885.86  M1230701703             0.0             0.0        0   \n",
            "5              46042.29   M573487274             0.0             0.0        0   \n",
            "...                 ...          ...             ...             ...      ...   \n",
            "6362610            0.00  C1812552860             0.0             0.0        1   \n",
            "6362612            0.00  C1470998563             0.0             0.0        1   \n",
            "6362614            0.00  C1850423904             0.0             0.0        1   \n",
            "6362616            0.00  C1881841831             0.0             0.0        1   \n",
            "6362618            0.00  C2080388513             0.0             0.0        1   \n",
            "\n",
            "         isFlaggedFraud  \n",
            "0                     0  \n",
            "1                     0  \n",
            "2                     0  \n",
            "4                     0  \n",
            "5                     0  \n",
            "...                 ...  \n",
            "6362610               0  \n",
            "6362612               0  \n",
            "6362614               0  \n",
            "6362616               0  \n",
            "6362618               0  \n",
            "\n",
            "[2317266 rows x 11 columns]\n"
          ]
        }
      ],
      "source": [
        "# Figuring out the transactions where old balance dest. and new balance dest. are 0 being FlaggedFraud\n",
        "\n",
        "x = data.loc[(data.isFlaggedFraud == 0) & (data.oldbalanceDest == 0) & (data.newbalanceDest == 0)]\n",
        "print(\"Figuring out the no. of transactions where old balance dest. and new balance dest. are 0 being FlaggedFraud :\", x)"
      ]
    },
    {
      "cell_type": "code",
      "execution_count": null,
      "metadata": {
        "id": "TqoViSc9eb8x",
        "outputId": "0e70c795-ec4e-428d-97e1-af9ed3f6ee1d"
      },
      "outputs": [
        {
          "data": {
            "text/html": [
              "<div>\n",
              "<style scoped>\n",
              "    .dataframe tbody tr th:only-of-type {\n",
              "        vertical-align: middle;\n",
              "    }\n",
              "\n",
              "    .dataframe tbody tr th {\n",
              "        vertical-align: top;\n",
              "    }\n",
              "\n",
              "    .dataframe thead th {\n",
              "        text-align: right;\n",
              "    }\n",
              "</style>\n",
              "<table border=\"1\" class=\"dataframe\">\n",
              "  <thead>\n",
              "    <tr style=\"text-align: right;\">\n",
              "      <th></th>\n",
              "      <th>step</th>\n",
              "      <th>type</th>\n",
              "      <th>amount</th>\n",
              "      <th>nameOrig</th>\n",
              "      <th>oldbalanceOrg</th>\n",
              "      <th>newbalanceOrig</th>\n",
              "      <th>nameDest</th>\n",
              "      <th>oldbalanceDest</th>\n",
              "      <th>newbalanceDest</th>\n",
              "      <th>isFraud</th>\n",
              "      <th>isFlaggedFraud</th>\n",
              "    </tr>\n",
              "  </thead>\n",
              "  <tbody>\n",
              "    <tr>\n",
              "      <th>2</th>\n",
              "      <td>1</td>\n",
              "      <td>TRANSFER</td>\n",
              "      <td>181.00</td>\n",
              "      <td>C1305486145</td>\n",
              "      <td>181.00</td>\n",
              "      <td>0.0</td>\n",
              "      <td>C553264065</td>\n",
              "      <td>0.00</td>\n",
              "      <td>0.00</td>\n",
              "      <td>1</td>\n",
              "      <td>0</td>\n",
              "    </tr>\n",
              "    <tr>\n",
              "      <th>19</th>\n",
              "      <td>1</td>\n",
              "      <td>TRANSFER</td>\n",
              "      <td>215310.30</td>\n",
              "      <td>C1670993182</td>\n",
              "      <td>705.00</td>\n",
              "      <td>0.0</td>\n",
              "      <td>C1100439041</td>\n",
              "      <td>22425.00</td>\n",
              "      <td>0.00</td>\n",
              "      <td>0</td>\n",
              "      <td>0</td>\n",
              "    </tr>\n",
              "    <tr>\n",
              "      <th>24</th>\n",
              "      <td>1</td>\n",
              "      <td>TRANSFER</td>\n",
              "      <td>311685.89</td>\n",
              "      <td>C1984094095</td>\n",
              "      <td>10835.00</td>\n",
              "      <td>0.0</td>\n",
              "      <td>C932583850</td>\n",
              "      <td>6267.00</td>\n",
              "      <td>2719172.89</td>\n",
              "      <td>0</td>\n",
              "      <td>0</td>\n",
              "    </tr>\n",
              "    <tr>\n",
              "      <th>58</th>\n",
              "      <td>1</td>\n",
              "      <td>TRANSFER</td>\n",
              "      <td>62610.80</td>\n",
              "      <td>C1976401987</td>\n",
              "      <td>79114.00</td>\n",
              "      <td>16503.2</td>\n",
              "      <td>C1937962514</td>\n",
              "      <td>517.00</td>\n",
              "      <td>8383.29</td>\n",
              "      <td>0</td>\n",
              "      <td>0</td>\n",
              "    </tr>\n",
              "    <tr>\n",
              "      <th>78</th>\n",
              "      <td>1</td>\n",
              "      <td>TRANSFER</td>\n",
              "      <td>42712.39</td>\n",
              "      <td>C283039401</td>\n",
              "      <td>10363.39</td>\n",
              "      <td>0.0</td>\n",
              "      <td>C1330106945</td>\n",
              "      <td>57901.66</td>\n",
              "      <td>24044.18</td>\n",
              "      <td>0</td>\n",
              "      <td>0</td>\n",
              "    </tr>\n",
              "    <tr>\n",
              "      <th>79</th>\n",
              "      <td>1</td>\n",
              "      <td>TRANSFER</td>\n",
              "      <td>77957.68</td>\n",
              "      <td>C207471778</td>\n",
              "      <td>0.00</td>\n",
              "      <td>0.0</td>\n",
              "      <td>C1761291320</td>\n",
              "      <td>94900.00</td>\n",
              "      <td>22233.65</td>\n",
              "      <td>0</td>\n",
              "      <td>0</td>\n",
              "    </tr>\n",
              "    <tr>\n",
              "      <th>80</th>\n",
              "      <td>1</td>\n",
              "      <td>TRANSFER</td>\n",
              "      <td>17231.46</td>\n",
              "      <td>C1243171897</td>\n",
              "      <td>0.00</td>\n",
              "      <td>0.0</td>\n",
              "      <td>C783286238</td>\n",
              "      <td>24672.00</td>\n",
              "      <td>0.00</td>\n",
              "      <td>0</td>\n",
              "      <td>0</td>\n",
              "    </tr>\n",
              "    <tr>\n",
              "      <th>81</th>\n",
              "      <td>1</td>\n",
              "      <td>TRANSFER</td>\n",
              "      <td>78766.03</td>\n",
              "      <td>C1376151044</td>\n",
              "      <td>0.00</td>\n",
              "      <td>0.0</td>\n",
              "      <td>C1749186397</td>\n",
              "      <td>103772.00</td>\n",
              "      <td>277515.05</td>\n",
              "      <td>0</td>\n",
              "      <td>0</td>\n",
              "    </tr>\n",
              "    <tr>\n",
              "      <th>82</th>\n",
              "      <td>1</td>\n",
              "      <td>TRANSFER</td>\n",
              "      <td>224606.64</td>\n",
              "      <td>C873175411</td>\n",
              "      <td>0.00</td>\n",
              "      <td>0.0</td>\n",
              "      <td>C766572210</td>\n",
              "      <td>354678.92</td>\n",
              "      <td>0.00</td>\n",
              "      <td>0</td>\n",
              "      <td>0</td>\n",
              "    </tr>\n",
              "    <tr>\n",
              "      <th>83</th>\n",
              "      <td>1</td>\n",
              "      <td>TRANSFER</td>\n",
              "      <td>125872.53</td>\n",
              "      <td>C1443967876</td>\n",
              "      <td>0.00</td>\n",
              "      <td>0.0</td>\n",
              "      <td>C392292416</td>\n",
              "      <td>348512.00</td>\n",
              "      <td>3420103.09</td>\n",
              "      <td>0</td>\n",
              "      <td>0</td>\n",
              "    </tr>\n",
              "    <tr>\n",
              "      <th>84</th>\n",
              "      <td>1</td>\n",
              "      <td>TRANSFER</td>\n",
              "      <td>379856.23</td>\n",
              "      <td>C1449772539</td>\n",
              "      <td>0.00</td>\n",
              "      <td>0.0</td>\n",
              "      <td>C1590550415</td>\n",
              "      <td>900180.00</td>\n",
              "      <td>19169204.93</td>\n",
              "      <td>0</td>\n",
              "      <td>0</td>\n",
              "    </tr>\n",
              "    <tr>\n",
              "      <th>85</th>\n",
              "      <td>1</td>\n",
              "      <td>TRANSFER</td>\n",
              "      <td>1505626.01</td>\n",
              "      <td>C926859124</td>\n",
              "      <td>0.00</td>\n",
              "      <td>0.0</td>\n",
              "      <td>C665576141</td>\n",
              "      <td>29031.00</td>\n",
              "      <td>5515763.34</td>\n",
              "      <td>0</td>\n",
              "      <td>0</td>\n",
              "    </tr>\n",
              "    <tr>\n",
              "      <th>86</th>\n",
              "      <td>1</td>\n",
              "      <td>TRANSFER</td>\n",
              "      <td>554026.99</td>\n",
              "      <td>C1603696865</td>\n",
              "      <td>0.00</td>\n",
              "      <td>0.0</td>\n",
              "      <td>C766572210</td>\n",
              "      <td>579285.56</td>\n",
              "      <td>0.00</td>\n",
              "      <td>0</td>\n",
              "      <td>0</td>\n",
              "    </tr>\n",
              "    <tr>\n",
              "      <th>87</th>\n",
              "      <td>1</td>\n",
              "      <td>TRANSFER</td>\n",
              "      <td>147543.10</td>\n",
              "      <td>C12905860</td>\n",
              "      <td>0.00</td>\n",
              "      <td>0.0</td>\n",
              "      <td>C1359044626</td>\n",
              "      <td>223220.00</td>\n",
              "      <td>16518.36</td>\n",
              "      <td>0</td>\n",
              "      <td>0</td>\n",
              "    </tr>\n",
              "    <tr>\n",
              "      <th>88</th>\n",
              "      <td>1</td>\n",
              "      <td>TRANSFER</td>\n",
              "      <td>761507.39</td>\n",
              "      <td>C412788346</td>\n",
              "      <td>0.00</td>\n",
              "      <td>0.0</td>\n",
              "      <td>C1590550415</td>\n",
              "      <td>1280036.23</td>\n",
              "      <td>19169204.93</td>\n",
              "      <td>0</td>\n",
              "      <td>0</td>\n",
              "    </tr>\n",
              "  </tbody>\n",
              "</table>\n",
              "</div>"
            ],
            "text/plain": [
              "    step      type      amount     nameOrig  oldbalanceOrg  newbalanceOrig  \\\n",
              "2      1  TRANSFER      181.00  C1305486145         181.00             0.0   \n",
              "19     1  TRANSFER   215310.30  C1670993182         705.00             0.0   \n",
              "24     1  TRANSFER   311685.89  C1984094095       10835.00             0.0   \n",
              "58     1  TRANSFER    62610.80  C1976401987       79114.00         16503.2   \n",
              "78     1  TRANSFER    42712.39   C283039401       10363.39             0.0   \n",
              "79     1  TRANSFER    77957.68   C207471778           0.00             0.0   \n",
              "80     1  TRANSFER    17231.46  C1243171897           0.00             0.0   \n",
              "81     1  TRANSFER    78766.03  C1376151044           0.00             0.0   \n",
              "82     1  TRANSFER   224606.64   C873175411           0.00             0.0   \n",
              "83     1  TRANSFER   125872.53  C1443967876           0.00             0.0   \n",
              "84     1  TRANSFER   379856.23  C1449772539           0.00             0.0   \n",
              "85     1  TRANSFER  1505626.01   C926859124           0.00             0.0   \n",
              "86     1  TRANSFER   554026.99  C1603696865           0.00             0.0   \n",
              "87     1  TRANSFER   147543.10    C12905860           0.00             0.0   \n",
              "88     1  TRANSFER   761507.39   C412788346           0.00             0.0   \n",
              "\n",
              "       nameDest  oldbalanceDest  newbalanceDest  isFraud  isFlaggedFraud  \n",
              "2    C553264065            0.00            0.00        1               0  \n",
              "19  C1100439041        22425.00            0.00        0               0  \n",
              "24   C932583850         6267.00      2719172.89        0               0  \n",
              "58  C1937962514          517.00         8383.29        0               0  \n",
              "78  C1330106945        57901.66        24044.18        0               0  \n",
              "79  C1761291320        94900.00        22233.65        0               0  \n",
              "80   C783286238        24672.00            0.00        0               0  \n",
              "81  C1749186397       103772.00       277515.05        0               0  \n",
              "82   C766572210       354678.92            0.00        0               0  \n",
              "83   C392292416       348512.00      3420103.09        0               0  \n",
              "84  C1590550415       900180.00     19169204.93        0               0  \n",
              "85   C665576141        29031.00      5515763.34        0               0  \n",
              "86   C766572210       579285.56            0.00        0               0  \n",
              "87  C1359044626       223220.00        16518.36        0               0  \n",
              "88  C1590550415      1280036.23     19169204.93        0               0  "
            ]
          },
          "execution_count": 37,
          "metadata": {},
          "output_type": "execute_result"
        }
      ],
      "source": [
        "# defining a dataset containing only transfer type of transactions\n",
        "\n",
        "dataTransfer = data.loc[data['type'] == 'TRANSFER']\n",
        "\n",
        "dataTransfer = pd.DataFrame(dataTransfer)\n",
        "\n",
        "dataTransfer.head(15)"
      ]
    },
    {
      "cell_type": "code",
      "execution_count": null,
      "metadata": {
        "id": "V7FIxh-Ieb8y",
        "outputId": "816f46fa-166a-4beb-ea9e-43bbd1575aed"
      },
      "outputs": [
        {
          "data": {
            "text/html": [
              "<div>\n",
              "<style scoped>\n",
              "    .dataframe tbody tr th:only-of-type {\n",
              "        vertical-align: middle;\n",
              "    }\n",
              "\n",
              "    .dataframe tbody tr th {\n",
              "        vertical-align: top;\n",
              "    }\n",
              "\n",
              "    .dataframe thead th {\n",
              "        text-align: right;\n",
              "    }\n",
              "</style>\n",
              "<table border=\"1\" class=\"dataframe\">\n",
              "  <thead>\n",
              "    <tr style=\"text-align: right;\">\n",
              "      <th></th>\n",
              "      <th>step</th>\n",
              "      <th>type</th>\n",
              "      <th>amount</th>\n",
              "      <th>nameOrig</th>\n",
              "      <th>oldbalanceOrg</th>\n",
              "      <th>newbalanceOrig</th>\n",
              "      <th>nameDest</th>\n",
              "      <th>oldbalanceDest</th>\n",
              "      <th>newbalanceDest</th>\n",
              "      <th>isFraud</th>\n",
              "      <th>isFlaggedFraud</th>\n",
              "    </tr>\n",
              "  </thead>\n",
              "  <tbody>\n",
              "    <tr>\n",
              "      <th>6205439</th>\n",
              "      <td>586</td>\n",
              "      <td>TRANSFER</td>\n",
              "      <td>353874.22</td>\n",
              "      <td>C1684585475</td>\n",
              "      <td>353874.22</td>\n",
              "      <td>353874.22</td>\n",
              "      <td>C1770418982</td>\n",
              "      <td>0.0</td>\n",
              "      <td>0.0</td>\n",
              "      <td>1</td>\n",
              "      <td>1</td>\n",
              "    </tr>\n",
              "    <tr>\n",
              "      <th>3760288</th>\n",
              "      <td>279</td>\n",
              "      <td>TRANSFER</td>\n",
              "      <td>536624.41</td>\n",
              "      <td>C1035541766</td>\n",
              "      <td>536624.41</td>\n",
              "      <td>536624.41</td>\n",
              "      <td>C1100697970</td>\n",
              "      <td>0.0</td>\n",
              "      <td>0.0</td>\n",
              "      <td>1</td>\n",
              "      <td>1</td>\n",
              "    </tr>\n",
              "    <tr>\n",
              "      <th>3247297</th>\n",
              "      <td>250</td>\n",
              "      <td>TRANSFER</td>\n",
              "      <td>1343002.08</td>\n",
              "      <td>C1100582606</td>\n",
              "      <td>1343002.08</td>\n",
              "      <td>1343002.08</td>\n",
              "      <td>C1147517658</td>\n",
              "      <td>0.0</td>\n",
              "      <td>0.0</td>\n",
              "      <td>1</td>\n",
              "      <td>1</td>\n",
              "    </tr>\n",
              "    <tr>\n",
              "      <th>6266413</th>\n",
              "      <td>617</td>\n",
              "      <td>TRANSFER</td>\n",
              "      <td>2542664.27</td>\n",
              "      <td>C786455622</td>\n",
              "      <td>2542664.27</td>\n",
              "      <td>2542664.27</td>\n",
              "      <td>C661958277</td>\n",
              "      <td>0.0</td>\n",
              "      <td>0.0</td>\n",
              "      <td>1</td>\n",
              "      <td>1</td>\n",
              "    </tr>\n",
              "    <tr>\n",
              "      <th>6351225</th>\n",
              "      <td>702</td>\n",
              "      <td>TRANSFER</td>\n",
              "      <td>3171085.59</td>\n",
              "      <td>C1892216157</td>\n",
              "      <td>3171085.59</td>\n",
              "      <td>3171085.59</td>\n",
              "      <td>C1308068787</td>\n",
              "      <td>0.0</td>\n",
              "      <td>0.0</td>\n",
              "      <td>1</td>\n",
              "      <td>1</td>\n",
              "    </tr>\n",
              "    <tr>\n",
              "      <th>6296014</th>\n",
              "      <td>671</td>\n",
              "      <td>TRANSFER</td>\n",
              "      <td>3441041.46</td>\n",
              "      <td>C917414431</td>\n",
              "      <td>3441041.46</td>\n",
              "      <td>3441041.46</td>\n",
              "      <td>C1082139865</td>\n",
              "      <td>0.0</td>\n",
              "      <td>0.0</td>\n",
              "      <td>1</td>\n",
              "      <td>1</td>\n",
              "    </tr>\n",
              "    <tr>\n",
              "      <th>6168499</th>\n",
              "      <td>554</td>\n",
              "      <td>TRANSFER</td>\n",
              "      <td>3576297.10</td>\n",
              "      <td>C193696150</td>\n",
              "      <td>3576297.10</td>\n",
              "      <td>3576297.10</td>\n",
              "      <td>C484597480</td>\n",
              "      <td>0.0</td>\n",
              "      <td>0.0</td>\n",
              "      <td>1</td>\n",
              "      <td>1</td>\n",
              "    </tr>\n",
              "    <tr>\n",
              "      <th>5563713</th>\n",
              "      <td>387</td>\n",
              "      <td>TRANSFER</td>\n",
              "      <td>4892193.09</td>\n",
              "      <td>C908544136</td>\n",
              "      <td>4892193.09</td>\n",
              "      <td>4892193.09</td>\n",
              "      <td>C891140444</td>\n",
              "      <td>0.0</td>\n",
              "      <td>0.0</td>\n",
              "      <td>1</td>\n",
              "      <td>1</td>\n",
              "    </tr>\n",
              "    <tr>\n",
              "      <th>2736446</th>\n",
              "      <td>212</td>\n",
              "      <td>TRANSFER</td>\n",
              "      <td>4953893.08</td>\n",
              "      <td>C728984460</td>\n",
              "      <td>4953893.08</td>\n",
              "      <td>4953893.08</td>\n",
              "      <td>C639921569</td>\n",
              "      <td>0.0</td>\n",
              "      <td>0.0</td>\n",
              "      <td>1</td>\n",
              "      <td>1</td>\n",
              "    </tr>\n",
              "    <tr>\n",
              "      <th>6362584</th>\n",
              "      <td>741</td>\n",
              "      <td>TRANSFER</td>\n",
              "      <td>5674547.89</td>\n",
              "      <td>C992223106</td>\n",
              "      <td>5674547.89</td>\n",
              "      <td>5674547.89</td>\n",
              "      <td>C1366804249</td>\n",
              "      <td>0.0</td>\n",
              "      <td>0.0</td>\n",
              "      <td>1</td>\n",
              "      <td>1</td>\n",
              "    </tr>\n",
              "  </tbody>\n",
              "</table>\n",
              "</div>"
            ],
            "text/plain": [
              "         step      type      amount     nameOrig  oldbalanceOrg  \\\n",
              "6205439   586  TRANSFER   353874.22  C1684585475      353874.22   \n",
              "3760288   279  TRANSFER   536624.41  C1035541766      536624.41   \n",
              "3247297   250  TRANSFER  1343002.08  C1100582606     1343002.08   \n",
              "6266413   617  TRANSFER  2542664.27   C786455622     2542664.27   \n",
              "6351225   702  TRANSFER  3171085.59  C1892216157     3171085.59   \n",
              "6296014   671  TRANSFER  3441041.46   C917414431     3441041.46   \n",
              "6168499   554  TRANSFER  3576297.10   C193696150     3576297.10   \n",
              "5563713   387  TRANSFER  4892193.09   C908544136     4892193.09   \n",
              "2736446   212  TRANSFER  4953893.08   C728984460     4953893.08   \n",
              "6362584   741  TRANSFER  5674547.89   C992223106     5674547.89   \n",
              "\n",
              "         newbalanceOrig     nameDest  oldbalanceDest  newbalanceDest  isFraud  \\\n",
              "6205439       353874.22  C1770418982             0.0             0.0        1   \n",
              "3760288       536624.41  C1100697970             0.0             0.0        1   \n",
              "3247297      1343002.08  C1147517658             0.0             0.0        1   \n",
              "6266413      2542664.27   C661958277             0.0             0.0        1   \n",
              "6351225      3171085.59  C1308068787             0.0             0.0        1   \n",
              "6296014      3441041.46  C1082139865             0.0             0.0        1   \n",
              "6168499      3576297.10   C484597480             0.0             0.0        1   \n",
              "5563713      4892193.09   C891140444             0.0             0.0        1   \n",
              "2736446      4953893.08   C639921569             0.0             0.0        1   \n",
              "6362584      5674547.89  C1366804249             0.0             0.0        1   \n",
              "\n",
              "         isFlaggedFraud  \n",
              "6205439               1  \n",
              "3760288               1  \n",
              "3247297               1  \n",
              "6266413               1  \n",
              "6351225               1  \n",
              "6296014               1  \n",
              "6168499               1  \n",
              "5563713               1  \n",
              "2736446               1  \n",
              "6362584               1  "
            ]
          },
          "execution_count": 38,
          "metadata": {},
          "output_type": "execute_result"
        }
      ],
      "source": [
        "# frauds having same old and new balance\n",
        "# sorted by old orignal balance to check original old balance for flagged frauds\n",
        "\n",
        "# this table shows flagged frauds with minimum original old balance\n",
        "\n",
        "\n",
        "dataTransfer.loc[(dataTransfer.isFlaggedFraud == 1) & (dataTransfer.oldbalanceOrg == dataTransfer.newbalanceOrig)].sort_values(by = 'oldbalanceOrg').head(10)"
      ]
    },
    {
      "cell_type": "code",
      "execution_count": null,
      "metadata": {
        "id": "NSkQgZdQeb8y",
        "outputId": "667ef983-36e8-4869-ab18-a212879e0b53"
      },
      "outputs": [
        {
          "data": {
            "text/html": [
              "<div>\n",
              "<style scoped>\n",
              "    .dataframe tbody tr th:only-of-type {\n",
              "        vertical-align: middle;\n",
              "    }\n",
              "\n",
              "    .dataframe tbody tr th {\n",
              "        vertical-align: top;\n",
              "    }\n",
              "\n",
              "    .dataframe thead th {\n",
              "        text-align: right;\n",
              "    }\n",
              "</style>\n",
              "<table border=\"1\" class=\"dataframe\">\n",
              "  <thead>\n",
              "    <tr style=\"text-align: right;\">\n",
              "      <th></th>\n",
              "      <th>step</th>\n",
              "      <th>type</th>\n",
              "      <th>amount</th>\n",
              "      <th>nameOrig</th>\n",
              "      <th>oldbalanceOrg</th>\n",
              "      <th>newbalanceOrig</th>\n",
              "      <th>nameDest</th>\n",
              "      <th>oldbalanceDest</th>\n",
              "      <th>newbalanceDest</th>\n",
              "      <th>isFraud</th>\n",
              "      <th>isFlaggedFraud</th>\n",
              "    </tr>\n",
              "  </thead>\n",
              "  <tbody>\n",
              "    <tr>\n",
              "      <th>6168499</th>\n",
              "      <td>554</td>\n",
              "      <td>TRANSFER</td>\n",
              "      <td>3576297.10</td>\n",
              "      <td>C193696150</td>\n",
              "      <td>3576297.10</td>\n",
              "      <td>3576297.10</td>\n",
              "      <td>C484597480</td>\n",
              "      <td>0.0</td>\n",
              "      <td>0.0</td>\n",
              "      <td>1</td>\n",
              "      <td>1</td>\n",
              "    </tr>\n",
              "    <tr>\n",
              "      <th>5563713</th>\n",
              "      <td>387</td>\n",
              "      <td>TRANSFER</td>\n",
              "      <td>4892193.09</td>\n",
              "      <td>C908544136</td>\n",
              "      <td>4892193.09</td>\n",
              "      <td>4892193.09</td>\n",
              "      <td>C891140444</td>\n",
              "      <td>0.0</td>\n",
              "      <td>0.0</td>\n",
              "      <td>1</td>\n",
              "      <td>1</td>\n",
              "    </tr>\n",
              "    <tr>\n",
              "      <th>2736446</th>\n",
              "      <td>212</td>\n",
              "      <td>TRANSFER</td>\n",
              "      <td>4953893.08</td>\n",
              "      <td>C728984460</td>\n",
              "      <td>4953893.08</td>\n",
              "      <td>4953893.08</td>\n",
              "      <td>C639921569</td>\n",
              "      <td>0.0</td>\n",
              "      <td>0.0</td>\n",
              "      <td>1</td>\n",
              "      <td>1</td>\n",
              "    </tr>\n",
              "    <tr>\n",
              "      <th>6362584</th>\n",
              "      <td>741</td>\n",
              "      <td>TRANSFER</td>\n",
              "      <td>5674547.89</td>\n",
              "      <td>C992223106</td>\n",
              "      <td>5674547.89</td>\n",
              "      <td>5674547.89</td>\n",
              "      <td>C1366804249</td>\n",
              "      <td>0.0</td>\n",
              "      <td>0.0</td>\n",
              "      <td>1</td>\n",
              "      <td>1</td>\n",
              "    </tr>\n",
              "    <tr>\n",
              "      <th>6281482</th>\n",
              "      <td>646</td>\n",
              "      <td>TRANSFER</td>\n",
              "      <td>10000000.00</td>\n",
              "      <td>C19004745</td>\n",
              "      <td>10399045.08</td>\n",
              "      <td>10399045.08</td>\n",
              "      <td>C1806199534</td>\n",
              "      <td>0.0</td>\n",
              "      <td>0.0</td>\n",
              "      <td>1</td>\n",
              "      <td>1</td>\n",
              "    </tr>\n",
              "    <tr>\n",
              "      <th>6281484</th>\n",
              "      <td>646</td>\n",
              "      <td>TRANSFER</td>\n",
              "      <td>399045.08</td>\n",
              "      <td>C724693370</td>\n",
              "      <td>10399045.08</td>\n",
              "      <td>10399045.08</td>\n",
              "      <td>C1909486199</td>\n",
              "      <td>0.0</td>\n",
              "      <td>0.0</td>\n",
              "      <td>1</td>\n",
              "      <td>1</td>\n",
              "    </tr>\n",
              "    <tr>\n",
              "      <th>6362460</th>\n",
              "      <td>730</td>\n",
              "      <td>TRANSFER</td>\n",
              "      <td>10000000.00</td>\n",
              "      <td>C2140038573</td>\n",
              "      <td>17316255.05</td>\n",
              "      <td>17316255.05</td>\n",
              "      <td>C1395467927</td>\n",
              "      <td>0.0</td>\n",
              "      <td>0.0</td>\n",
              "      <td>1</td>\n",
              "      <td>1</td>\n",
              "    </tr>\n",
              "    <tr>\n",
              "      <th>6362462</th>\n",
              "      <td>730</td>\n",
              "      <td>TRANSFER</td>\n",
              "      <td>7316255.05</td>\n",
              "      <td>C1869569059</td>\n",
              "      <td>17316255.05</td>\n",
              "      <td>17316255.05</td>\n",
              "      <td>C1861208726</td>\n",
              "      <td>0.0</td>\n",
              "      <td>0.0</td>\n",
              "      <td>1</td>\n",
              "      <td>1</td>\n",
              "    </tr>\n",
              "    <tr>\n",
              "      <th>5996407</th>\n",
              "      <td>425</td>\n",
              "      <td>TRANSFER</td>\n",
              "      <td>10000000.00</td>\n",
              "      <td>C689608084</td>\n",
              "      <td>19585040.37</td>\n",
              "      <td>19585040.37</td>\n",
              "      <td>C1392803603</td>\n",
              "      <td>0.0</td>\n",
              "      <td>0.0</td>\n",
              "      <td>1</td>\n",
              "      <td>1</td>\n",
              "    </tr>\n",
              "    <tr>\n",
              "      <th>5996409</th>\n",
              "      <td>425</td>\n",
              "      <td>TRANSFER</td>\n",
              "      <td>9585040.37</td>\n",
              "      <td>C452586515</td>\n",
              "      <td>19585040.37</td>\n",
              "      <td>19585040.37</td>\n",
              "      <td>C1109166882</td>\n",
              "      <td>0.0</td>\n",
              "      <td>0.0</td>\n",
              "      <td>1</td>\n",
              "      <td>1</td>\n",
              "    </tr>\n",
              "  </tbody>\n",
              "</table>\n",
              "</div>"
            ],
            "text/plain": [
              "         step      type       amount     nameOrig  oldbalanceOrg  \\\n",
              "6168499   554  TRANSFER   3576297.10   C193696150     3576297.10   \n",
              "5563713   387  TRANSFER   4892193.09   C908544136     4892193.09   \n",
              "2736446   212  TRANSFER   4953893.08   C728984460     4953893.08   \n",
              "6362584   741  TRANSFER   5674547.89   C992223106     5674547.89   \n",
              "6281482   646  TRANSFER  10000000.00    C19004745    10399045.08   \n",
              "6281484   646  TRANSFER    399045.08   C724693370    10399045.08   \n",
              "6362460   730  TRANSFER  10000000.00  C2140038573    17316255.05   \n",
              "6362462   730  TRANSFER   7316255.05  C1869569059    17316255.05   \n",
              "5996407   425  TRANSFER  10000000.00   C689608084    19585040.37   \n",
              "5996409   425  TRANSFER   9585040.37   C452586515    19585040.37   \n",
              "\n",
              "         newbalanceOrig     nameDest  oldbalanceDest  newbalanceDest  isFraud  \\\n",
              "6168499      3576297.10   C484597480             0.0             0.0        1   \n",
              "5563713      4892193.09   C891140444             0.0             0.0        1   \n",
              "2736446      4953893.08   C639921569             0.0             0.0        1   \n",
              "6362584      5674547.89  C1366804249             0.0             0.0        1   \n",
              "6281482     10399045.08  C1806199534             0.0             0.0        1   \n",
              "6281484     10399045.08  C1909486199             0.0             0.0        1   \n",
              "6362460     17316255.05  C1395467927             0.0             0.0        1   \n",
              "6362462     17316255.05  C1861208726             0.0             0.0        1   \n",
              "5996407     19585040.37  C1392803603             0.0             0.0        1   \n",
              "5996409     19585040.37  C1109166882             0.0             0.0        1   \n",
              "\n",
              "         isFlaggedFraud  \n",
              "6168499               1  \n",
              "5563713               1  \n",
              "2736446               1  \n",
              "6362584               1  \n",
              "6281482               1  \n",
              "6281484               1  \n",
              "6362460               1  \n",
              "6362462               1  \n",
              "5996407               1  \n",
              "5996409               1  "
            ]
          },
          "execution_count": 39,
          "metadata": {},
          "output_type": "execute_result"
        }
      ],
      "source": [
        "# frauds having same old and new balance\n",
        "# sorted by old orignal balance to check original old balance for flagged frauds\n",
        "\n",
        "# this table shows flagged frauds with maximum original old balance\n",
        "\n",
        "\n",
        "dataTransfer.loc[(dataTransfer.isFlaggedFraud == 1) & (dataTransfer.oldbalanceOrg == dataTransfer.newbalanceOrig)].sort_values(by = 'oldbalanceOrg').tail(10)"
      ]
    },
    {
      "cell_type": "code",
      "execution_count": null,
      "metadata": {
        "id": "EjhD2i_feb8z",
        "outputId": "a2cdcb63-16a8-4ce9-c015-ceebac7175e7"
      },
      "outputs": [
        {
          "name": "stdout",
          "output_type": "stream",
          "text": [
            "Minimum Balance of oldBalanceOrig for FlaggedFraud and Transfer mode : 353874.22\n",
            "Maximum Balance of oldbalanceOrig for FlaggedFraud and Transfer mode : 19585040.37\n"
          ]
        }
      ],
      "source": [
        "# finding out the minimum and maximum amount for oldbalance original where oldbalance and newbalance for dest is same.\n",
        "\n",
        "dataFlagged = data.loc[data.isFlaggedFraud == 1]\n",
        "\n",
        "print('Minimum Balance of oldBalanceOrig for FlaggedFraud and Transfer mode :', dataFlagged.oldbalanceOrg.min())\n",
        "print('Maximum Balance of oldbalanceOrig for FlaggedFraud and Transfer mode :', dataFlagged.oldbalanceOrg.max())"
      ]
    },
    {
      "cell_type": "code",
      "execution_count": null,
      "metadata": {
        "id": "RvfHqWAgeb8z",
        "outputId": "7774a19d-d792-454e-b379-896608e34439"
      },
      "outputs": [
        {
          "name": "stdout",
          "output_type": "stream",
          "text": [
            "Minimum Balance of oldbalanceOrig for non FlaggedFraud and Transfer mode: 0.0\n",
            "Maximum Balance of oldbalanceOrig for non FlaggedFraud and Transfer mode: 575667.54\n"
          ]
        }
      ],
      "source": [
        "# Finding the maximum and minimum balance in original balance when newbalance original and oldbalance original are equal\n",
        "\n",
        "print('Minimum Balance of oldbalanceOrig for non FlaggedFraud and Transfer mode:',\n",
        "      data[(data.type == 'TRANSFER') & (data.isFlaggedFraud == 0) & (data.oldbalanceOrg == data.newbalanceOrig)].oldbalanceOrg.min())\n",
        "print('Maximum Balance of oldbalanceOrig for non FlaggedFraud and Transfer mode:',\n",
        "      data[(data.type == 'TRANSFER') & (data.isFlaggedFraud == 0) & (data.oldbalanceOrg == data.newbalanceOrig)].oldbalanceOrg.max())\n",
        "\n",
        "# Can isFlaggedFraud be set based on seeing a customer transacting more than once? Note that duplicate customer names don't exist within\n",
        "# transactions where isFlaggedFraud is set, but duplicate customer names exist within transactions where isFlaggedFraud is not set. It turns\n",
        "# out that originators of transactions that have isFlaggedFraud set have transacted only once. Very few destination accounts of transactions\n",
        "# that have isFlaggedFraud set have transacted more than once."
      ]
    },
    {
      "cell_type": "code",
      "execution_count": null,
      "metadata": {
        "id": "7IgchuIjeb80",
        "outputId": "a793d4c2-f3a5-49ba-d818-5022b1d02625"
      },
      "outputs": [
        {
          "name": "stdout",
          "output_type": "stream",
          "text": [
            "Minimum Balance of oldbalanceOrig for  FlaggedFraud and Transfer mode: 353874.22\n",
            "Maximum Balance of oldbalanceOrig for non FlaggedFraud and Transfer mode: 19585040.37\n"
          ]
        }
      ],
      "source": [
        "print('Minimum Balance of oldbalanceOrig for  FlaggedFraud and Transfer mode:',\n",
        "      data[(data.type == 'TRANSFER') & (data.isFlaggedFraud == 1) & (data.oldbalanceOrg == data.newbalanceOrig)].oldbalanceOrg.min())\n",
        "print('Maximum Balance of oldbalanceOrig for non FlaggedFraud and Transfer mode:',\n",
        "      data[(data.type == 'TRANSFER') & (data.isFlaggedFraud == 1) & (data.oldbalanceOrg == data.newbalanceOrig)].oldbalanceOrg.max())"
      ]
    },
    {
      "cell_type": "code",
      "execution_count": null,
      "metadata": {
        "id": "lnkV2_fAeb81",
        "outputId": "97f8f9bb-2d95-410e-9226-4062e38e91fc"
      },
      "outputs": [
        {
          "data": {
            "text/plain": [
              "C1286084959    113\n",
              "C985934102     109\n",
              "C665576141     105\n",
              "C2083562754    102\n",
              "C248609774     101\n",
              "C1590550415    101\n",
              "C451111351      99\n",
              "C1789550256     99\n",
              "C1360767589     98\n",
              "C1023714065     97\n",
              "C97730845       96\n",
              "C977993101      96\n",
              "C392292416      95\n",
              "C1899073220     92\n",
              "C306206744      91\n",
              "C1782113663     90\n",
              "C1234776885     90\n",
              "C716083600      89\n",
              "C998351292      89\n",
              "C909295153      88\n",
              "Name: nameDest, dtype: int64"
            ]
          },
          "execution_count": 43,
          "metadata": {},
          "output_type": "execute_result"
        }
      ],
      "source": [
        "data['nameDest'].value_counts().head(20)"
      ]
    },
    {
      "cell_type": "code",
      "execution_count": null,
      "metadata": {
        "id": "E0rtQXR7eb81",
        "outputId": "0c2fa94c-7e12-4389-d0cb-aeda79958424"
      },
      "outputs": [
        {
          "data": {
            "text/plain": [
              "(2770409, 11)"
            ]
          },
          "execution_count": 44,
          "metadata": {},
          "output_type": "execute_result"
        }
      ],
      "source": [
        "# making dependent and independent sets\n",
        "\n",
        "X = data.loc[(data.type == 'TRANSFER') | (data.type == 'CASH_OUT')]\n",
        "\n",
        "# shape of x\n",
        "X.shape"
      ]
    },
    {
      "cell_type": "code",
      "execution_count": null,
      "metadata": {
        "id": "vtpQgAE5eb81",
        "outputId": "9d653530-703e-479c-bf64-4217cb50c85c"
      },
      "outputs": [
        {
          "data": {
            "text/html": [
              "<div>\n",
              "<style scoped>\n",
              "    .dataframe tbody tr th:only-of-type {\n",
              "        vertical-align: middle;\n",
              "    }\n",
              "\n",
              "    .dataframe tbody tr th {\n",
              "        vertical-align: top;\n",
              "    }\n",
              "\n",
              "    .dataframe thead th {\n",
              "        text-align: right;\n",
              "    }\n",
              "</style>\n",
              "<table border=\"1\" class=\"dataframe\">\n",
              "  <thead>\n",
              "    <tr style=\"text-align: right;\">\n",
              "      <th></th>\n",
              "      <th>step</th>\n",
              "      <th>type</th>\n",
              "      <th>amount</th>\n",
              "      <th>nameOrig</th>\n",
              "      <th>oldbalanceOrg</th>\n",
              "      <th>newbalanceOrig</th>\n",
              "      <th>nameDest</th>\n",
              "      <th>oldbalanceDest</th>\n",
              "      <th>newbalanceDest</th>\n",
              "      <th>isFraud</th>\n",
              "      <th>isFlaggedFraud</th>\n",
              "    </tr>\n",
              "  </thead>\n",
              "  <tbody>\n",
              "    <tr>\n",
              "      <th>2</th>\n",
              "      <td>1</td>\n",
              "      <td>TRANSFER</td>\n",
              "      <td>181.00</td>\n",
              "      <td>C1305486145</td>\n",
              "      <td>181.00</td>\n",
              "      <td>0.00</td>\n",
              "      <td>C553264065</td>\n",
              "      <td>0.00</td>\n",
              "      <td>0.00</td>\n",
              "      <td>1</td>\n",
              "      <td>0</td>\n",
              "    </tr>\n",
              "    <tr>\n",
              "      <th>3</th>\n",
              "      <td>1</td>\n",
              "      <td>CASH_OUT</td>\n",
              "      <td>181.00</td>\n",
              "      <td>C840083671</td>\n",
              "      <td>181.00</td>\n",
              "      <td>0.00</td>\n",
              "      <td>C38997010</td>\n",
              "      <td>21182.00</td>\n",
              "      <td>0.00</td>\n",
              "      <td>1</td>\n",
              "      <td>0</td>\n",
              "    </tr>\n",
              "    <tr>\n",
              "      <th>15</th>\n",
              "      <td>1</td>\n",
              "      <td>CASH_OUT</td>\n",
              "      <td>229133.94</td>\n",
              "      <td>C905080434</td>\n",
              "      <td>15325.00</td>\n",
              "      <td>0.00</td>\n",
              "      <td>C476402209</td>\n",
              "      <td>5083.00</td>\n",
              "      <td>51513.44</td>\n",
              "      <td>0</td>\n",
              "      <td>0</td>\n",
              "    </tr>\n",
              "    <tr>\n",
              "      <th>19</th>\n",
              "      <td>1</td>\n",
              "      <td>TRANSFER</td>\n",
              "      <td>215310.30</td>\n",
              "      <td>C1670993182</td>\n",
              "      <td>705.00</td>\n",
              "      <td>0.00</td>\n",
              "      <td>C1100439041</td>\n",
              "      <td>22425.00</td>\n",
              "      <td>0.00</td>\n",
              "      <td>0</td>\n",
              "      <td>0</td>\n",
              "    </tr>\n",
              "    <tr>\n",
              "      <th>24</th>\n",
              "      <td>1</td>\n",
              "      <td>TRANSFER</td>\n",
              "      <td>311685.89</td>\n",
              "      <td>C1984094095</td>\n",
              "      <td>10835.00</td>\n",
              "      <td>0.00</td>\n",
              "      <td>C932583850</td>\n",
              "      <td>6267.00</td>\n",
              "      <td>2719172.89</td>\n",
              "      <td>0</td>\n",
              "      <td>0</td>\n",
              "    </tr>\n",
              "    <tr>\n",
              "      <th>42</th>\n",
              "      <td>1</td>\n",
              "      <td>CASH_OUT</td>\n",
              "      <td>110414.71</td>\n",
              "      <td>C768216420</td>\n",
              "      <td>26845.41</td>\n",
              "      <td>0.00</td>\n",
              "      <td>C1509514333</td>\n",
              "      <td>288800.00</td>\n",
              "      <td>2415.16</td>\n",
              "      <td>0</td>\n",
              "      <td>0</td>\n",
              "    </tr>\n",
              "    <tr>\n",
              "      <th>47</th>\n",
              "      <td>1</td>\n",
              "      <td>CASH_OUT</td>\n",
              "      <td>56953.90</td>\n",
              "      <td>C1570470538</td>\n",
              "      <td>1942.02</td>\n",
              "      <td>0.00</td>\n",
              "      <td>C824009085</td>\n",
              "      <td>70253.00</td>\n",
              "      <td>64106.18</td>\n",
              "      <td>0</td>\n",
              "      <td>0</td>\n",
              "    </tr>\n",
              "    <tr>\n",
              "      <th>48</th>\n",
              "      <td>1</td>\n",
              "      <td>CASH_OUT</td>\n",
              "      <td>5346.89</td>\n",
              "      <td>C512549200</td>\n",
              "      <td>0.00</td>\n",
              "      <td>0.00</td>\n",
              "      <td>C248609774</td>\n",
              "      <td>652637.00</td>\n",
              "      <td>6453430.91</td>\n",
              "      <td>0</td>\n",
              "      <td>0</td>\n",
              "    </tr>\n",
              "    <tr>\n",
              "      <th>51</th>\n",
              "      <td>1</td>\n",
              "      <td>CASH_OUT</td>\n",
              "      <td>23261.30</td>\n",
              "      <td>C2072313080</td>\n",
              "      <td>20411.53</td>\n",
              "      <td>0.00</td>\n",
              "      <td>C2001112025</td>\n",
              "      <td>25742.00</td>\n",
              "      <td>0.00</td>\n",
              "      <td>0</td>\n",
              "      <td>0</td>\n",
              "    </tr>\n",
              "    <tr>\n",
              "      <th>58</th>\n",
              "      <td>1</td>\n",
              "      <td>TRANSFER</td>\n",
              "      <td>62610.80</td>\n",
              "      <td>C1976401987</td>\n",
              "      <td>79114.00</td>\n",
              "      <td>16503.20</td>\n",
              "      <td>C1937962514</td>\n",
              "      <td>517.00</td>\n",
              "      <td>8383.29</td>\n",
              "      <td>0</td>\n",
              "      <td>0</td>\n",
              "    </tr>\n",
              "    <tr>\n",
              "      <th>60</th>\n",
              "      <td>1</td>\n",
              "      <td>CASH_OUT</td>\n",
              "      <td>82940.31</td>\n",
              "      <td>C1528834618</td>\n",
              "      <td>3017.87</td>\n",
              "      <td>0.00</td>\n",
              "      <td>C476800120</td>\n",
              "      <td>132372.00</td>\n",
              "      <td>49864.36</td>\n",
              "      <td>0</td>\n",
              "      <td>0</td>\n",
              "    </tr>\n",
              "    <tr>\n",
              "      <th>70</th>\n",
              "      <td>1</td>\n",
              "      <td>CASH_OUT</td>\n",
              "      <td>47458.86</td>\n",
              "      <td>C527211736</td>\n",
              "      <td>209534.84</td>\n",
              "      <td>162075.98</td>\n",
              "      <td>C2096057945</td>\n",
              "      <td>52120.00</td>\n",
              "      <td>0.00</td>\n",
              "      <td>0</td>\n",
              "      <td>0</td>\n",
              "    </tr>\n",
              "    <tr>\n",
              "      <th>71</th>\n",
              "      <td>1</td>\n",
              "      <td>CASH_OUT</td>\n",
              "      <td>136872.92</td>\n",
              "      <td>C1533123860</td>\n",
              "      <td>162075.98</td>\n",
              "      <td>25203.05</td>\n",
              "      <td>C766572210</td>\n",
              "      <td>217806.00</td>\n",
              "      <td>0.00</td>\n",
              "      <td>0</td>\n",
              "      <td>0</td>\n",
              "    </tr>\n",
              "    <tr>\n",
              "      <th>72</th>\n",
              "      <td>1</td>\n",
              "      <td>CASH_OUT</td>\n",
              "      <td>94253.33</td>\n",
              "      <td>C1718906711</td>\n",
              "      <td>25203.05</td>\n",
              "      <td>0.00</td>\n",
              "      <td>C977993101</td>\n",
              "      <td>99773.00</td>\n",
              "      <td>965870.05</td>\n",
              "      <td>0</td>\n",
              "      <td>0</td>\n",
              "    </tr>\n",
              "    <tr>\n",
              "      <th>78</th>\n",
              "      <td>1</td>\n",
              "      <td>TRANSFER</td>\n",
              "      <td>42712.39</td>\n",
              "      <td>C283039401</td>\n",
              "      <td>10363.39</td>\n",
              "      <td>0.00</td>\n",
              "      <td>C1330106945</td>\n",
              "      <td>57901.66</td>\n",
              "      <td>24044.18</td>\n",
              "      <td>0</td>\n",
              "      <td>0</td>\n",
              "    </tr>\n",
              "  </tbody>\n",
              "</table>\n",
              "</div>"
            ],
            "text/plain": [
              "    step      type     amount     nameOrig  oldbalanceOrg  newbalanceOrig  \\\n",
              "2      1  TRANSFER     181.00  C1305486145         181.00            0.00   \n",
              "3      1  CASH_OUT     181.00   C840083671         181.00            0.00   \n",
              "15     1  CASH_OUT  229133.94   C905080434       15325.00            0.00   \n",
              "19     1  TRANSFER  215310.30  C1670993182         705.00            0.00   \n",
              "24     1  TRANSFER  311685.89  C1984094095       10835.00            0.00   \n",
              "42     1  CASH_OUT  110414.71   C768216420       26845.41            0.00   \n",
              "47     1  CASH_OUT   56953.90  C1570470538        1942.02            0.00   \n",
              "48     1  CASH_OUT    5346.89   C512549200           0.00            0.00   \n",
              "51     1  CASH_OUT   23261.30  C2072313080       20411.53            0.00   \n",
              "58     1  TRANSFER   62610.80  C1976401987       79114.00        16503.20   \n",
              "60     1  CASH_OUT   82940.31  C1528834618        3017.87            0.00   \n",
              "70     1  CASH_OUT   47458.86   C527211736      209534.84       162075.98   \n",
              "71     1  CASH_OUT  136872.92  C1533123860      162075.98        25203.05   \n",
              "72     1  CASH_OUT   94253.33  C1718906711       25203.05            0.00   \n",
              "78     1  TRANSFER   42712.39   C283039401       10363.39            0.00   \n",
              "\n",
              "       nameDest  oldbalanceDest  newbalanceDest  isFraud  isFlaggedFraud  \n",
              "2    C553264065            0.00            0.00        1               0  \n",
              "3     C38997010        21182.00            0.00        1               0  \n",
              "15   C476402209         5083.00        51513.44        0               0  \n",
              "19  C1100439041        22425.00            0.00        0               0  \n",
              "24   C932583850         6267.00      2719172.89        0               0  \n",
              "42  C1509514333       288800.00         2415.16        0               0  \n",
              "47   C824009085        70253.00        64106.18        0               0  \n",
              "48   C248609774       652637.00      6453430.91        0               0  \n",
              "51  C2001112025        25742.00            0.00        0               0  \n",
              "58  C1937962514          517.00         8383.29        0               0  \n",
              "60   C476800120       132372.00        49864.36        0               0  \n",
              "70  C2096057945        52120.00            0.00        0               0  \n",
              "71   C766572210       217806.00            0.00        0               0  \n",
              "72   C977993101        99773.00       965870.05        0               0  \n",
              "78  C1330106945        57901.66        24044.18        0               0  "
            ]
          },
          "execution_count": 45,
          "metadata": {},
          "output_type": "execute_result"
        }
      ],
      "source": [
        "X.head(15)"
      ]
    },
    {
      "cell_type": "code",
      "execution_count": null,
      "metadata": {
        "id": "DPh5eHPdeb82",
        "outputId": "30929b00-f355-4cc7-af5b-02e70b24dc57"
      },
      "outputs": [
        {
          "name": "stderr",
          "output_type": "stream",
          "text": [
            "<ipython-input-46-77d5cd729162>:3: SettingWithCopyWarning: \n",
            "A value is trying to be set on a copy of a slice from a DataFrame.\n",
            "Try using .loc[row_indexer,col_indexer] = value instead\n",
            "\n",
            "See the caveats in the documentation: https://pandas.pydata.org/pandas-docs/stable/user_guide/indexing.html#returning-a-view-versus-a-copy\n",
            "  X['errorBalanceOrig'] = X.newbalanceOrig + X.amount - X.oldbalanceOrg\n",
            "<ipython-input-46-77d5cd729162>:4: SettingWithCopyWarning: \n",
            "A value is trying to be set on a copy of a slice from a DataFrame.\n",
            "Try using .loc[row_indexer,col_indexer] = value instead\n",
            "\n",
            "See the caveats in the documentation: https://pandas.pydata.org/pandas-docs/stable/user_guide/indexing.html#returning-a-view-versus-a-copy\n",
            "  X['errorBalanceDest'] = X.oldbalanceDest + X.amount - X.newbalanceDest\n"
          ]
        }
      ],
      "source": [
        "# feature engineering\n",
        "\n",
        "X['errorBalanceOrig'] = X.newbalanceOrig + X.amount - X.oldbalanceOrg\n",
        "X['errorBalanceDest'] = X.oldbalanceDest + X.amount - X.newbalanceDest"
      ]
    },
    {
      "cell_type": "code",
      "execution_count": null,
      "metadata": {
        "id": "P7BuF_QLeb82",
        "outputId": "05404573-3f56-4774-a7cd-82bb9a558690"
      },
      "outputs": [
        {
          "data": {
            "text/plain": [
              "(2770409, 11)"
            ]
          },
          "execution_count": 47,
          "metadata": {},
          "output_type": "execute_result"
        }
      ],
      "source": [
        "# removing unwanted columns\n",
        "\n",
        "X = X.drop(['nameDest','nameOrig'], axis = 1)\n",
        "\n",
        "# checking the new shape of data\n",
        "X.shape"
      ]
    },
    {
      "cell_type": "code",
      "execution_count": null,
      "metadata": {
        "id": "4T2sAerzeb83"
      },
      "outputs": [],
      "source": [
        "# label encoding for the transaction type\n",
        "\n",
        "X['type'].replace('TRANSFER', 0, inplace = True)\n",
        "X['type'].replace('CASH_OUT', 1, inplace = True)"
      ]
    },
    {
      "cell_type": "code",
      "execution_count": null,
      "metadata": {
        "id": "mq6UnPoceb84",
        "outputId": "3951efd1-5829-4365-ca90-7a41a24ae9a5"
      },
      "outputs": [
        {
          "data": {
            "text/html": [
              "<div>\n",
              "<style scoped>\n",
              "    .dataframe tbody tr th:only-of-type {\n",
              "        vertical-align: middle;\n",
              "    }\n",
              "\n",
              "    .dataframe tbody tr th {\n",
              "        vertical-align: top;\n",
              "    }\n",
              "\n",
              "    .dataframe thead th {\n",
              "        text-align: right;\n",
              "    }\n",
              "</style>\n",
              "<table border=\"1\" class=\"dataframe\">\n",
              "  <thead>\n",
              "    <tr style=\"text-align: right;\">\n",
              "      <th></th>\n",
              "      <th>step</th>\n",
              "      <th>type</th>\n",
              "      <th>amount</th>\n",
              "      <th>oldbalanceOrg</th>\n",
              "      <th>newbalanceOrig</th>\n",
              "      <th>oldbalanceDest</th>\n",
              "      <th>newbalanceDest</th>\n",
              "      <th>isFraud</th>\n",
              "      <th>isFlaggedFraud</th>\n",
              "      <th>errorBalanceOrig</th>\n",
              "      <th>errorBalanceDest</th>\n",
              "    </tr>\n",
              "  </thead>\n",
              "  <tbody>\n",
              "    <tr>\n",
              "      <th>2</th>\n",
              "      <td>1</td>\n",
              "      <td>0</td>\n",
              "      <td>181.00</td>\n",
              "      <td>181.00</td>\n",
              "      <td>0.0</td>\n",
              "      <td>0.0</td>\n",
              "      <td>0.00</td>\n",
              "      <td>1</td>\n",
              "      <td>0</td>\n",
              "      <td>0.00</td>\n",
              "      <td>181.00</td>\n",
              "    </tr>\n",
              "    <tr>\n",
              "      <th>3</th>\n",
              "      <td>1</td>\n",
              "      <td>1</td>\n",
              "      <td>181.00</td>\n",
              "      <td>181.00</td>\n",
              "      <td>0.0</td>\n",
              "      <td>21182.0</td>\n",
              "      <td>0.00</td>\n",
              "      <td>1</td>\n",
              "      <td>0</td>\n",
              "      <td>0.00</td>\n",
              "      <td>21363.00</td>\n",
              "    </tr>\n",
              "    <tr>\n",
              "      <th>15</th>\n",
              "      <td>1</td>\n",
              "      <td>1</td>\n",
              "      <td>229133.94</td>\n",
              "      <td>15325.00</td>\n",
              "      <td>0.0</td>\n",
              "      <td>5083.0</td>\n",
              "      <td>51513.44</td>\n",
              "      <td>0</td>\n",
              "      <td>0</td>\n",
              "      <td>213808.94</td>\n",
              "      <td>182703.50</td>\n",
              "    </tr>\n",
              "    <tr>\n",
              "      <th>19</th>\n",
              "      <td>1</td>\n",
              "      <td>0</td>\n",
              "      <td>215310.30</td>\n",
              "      <td>705.00</td>\n",
              "      <td>0.0</td>\n",
              "      <td>22425.0</td>\n",
              "      <td>0.00</td>\n",
              "      <td>0</td>\n",
              "      <td>0</td>\n",
              "      <td>214605.30</td>\n",
              "      <td>237735.30</td>\n",
              "    </tr>\n",
              "    <tr>\n",
              "      <th>24</th>\n",
              "      <td>1</td>\n",
              "      <td>0</td>\n",
              "      <td>311685.89</td>\n",
              "      <td>10835.00</td>\n",
              "      <td>0.0</td>\n",
              "      <td>6267.0</td>\n",
              "      <td>2719172.89</td>\n",
              "      <td>0</td>\n",
              "      <td>0</td>\n",
              "      <td>300850.89</td>\n",
              "      <td>-2401220.00</td>\n",
              "    </tr>\n",
              "    <tr>\n",
              "      <th>42</th>\n",
              "      <td>1</td>\n",
              "      <td>1</td>\n",
              "      <td>110414.71</td>\n",
              "      <td>26845.41</td>\n",
              "      <td>0.0</td>\n",
              "      <td>288800.0</td>\n",
              "      <td>2415.16</td>\n",
              "      <td>0</td>\n",
              "      <td>0</td>\n",
              "      <td>83569.30</td>\n",
              "      <td>396799.55</td>\n",
              "    </tr>\n",
              "    <tr>\n",
              "      <th>47</th>\n",
              "      <td>1</td>\n",
              "      <td>1</td>\n",
              "      <td>56953.90</td>\n",
              "      <td>1942.02</td>\n",
              "      <td>0.0</td>\n",
              "      <td>70253.0</td>\n",
              "      <td>64106.18</td>\n",
              "      <td>0</td>\n",
              "      <td>0</td>\n",
              "      <td>55011.88</td>\n",
              "      <td>63100.72</td>\n",
              "    </tr>\n",
              "    <tr>\n",
              "      <th>48</th>\n",
              "      <td>1</td>\n",
              "      <td>1</td>\n",
              "      <td>5346.89</td>\n",
              "      <td>0.00</td>\n",
              "      <td>0.0</td>\n",
              "      <td>652637.0</td>\n",
              "      <td>6453430.91</td>\n",
              "      <td>0</td>\n",
              "      <td>0</td>\n",
              "      <td>5346.89</td>\n",
              "      <td>-5795447.02</td>\n",
              "    </tr>\n",
              "    <tr>\n",
              "      <th>51</th>\n",
              "      <td>1</td>\n",
              "      <td>1</td>\n",
              "      <td>23261.30</td>\n",
              "      <td>20411.53</td>\n",
              "      <td>0.0</td>\n",
              "      <td>25742.0</td>\n",
              "      <td>0.00</td>\n",
              "      <td>0</td>\n",
              "      <td>0</td>\n",
              "      <td>2849.77</td>\n",
              "      <td>49003.30</td>\n",
              "    </tr>\n",
              "    <tr>\n",
              "      <th>58</th>\n",
              "      <td>1</td>\n",
              "      <td>0</td>\n",
              "      <td>62610.80</td>\n",
              "      <td>79114.00</td>\n",
              "      <td>16503.2</td>\n",
              "      <td>517.0</td>\n",
              "      <td>8383.29</td>\n",
              "      <td>0</td>\n",
              "      <td>0</td>\n",
              "      <td>0.00</td>\n",
              "      <td>54744.51</td>\n",
              "    </tr>\n",
              "  </tbody>\n",
              "</table>\n",
              "</div>"
            ],
            "text/plain": [
              "    step  type     amount  oldbalanceOrg  newbalanceOrig  oldbalanceDest  \\\n",
              "2      1     0     181.00         181.00             0.0             0.0   \n",
              "3      1     1     181.00         181.00             0.0         21182.0   \n",
              "15     1     1  229133.94       15325.00             0.0          5083.0   \n",
              "19     1     0  215310.30         705.00             0.0         22425.0   \n",
              "24     1     0  311685.89       10835.00             0.0          6267.0   \n",
              "42     1     1  110414.71       26845.41             0.0        288800.0   \n",
              "47     1     1   56953.90        1942.02             0.0         70253.0   \n",
              "48     1     1    5346.89           0.00             0.0        652637.0   \n",
              "51     1     1   23261.30       20411.53             0.0         25742.0   \n",
              "58     1     0   62610.80       79114.00         16503.2           517.0   \n",
              "\n",
              "    newbalanceDest  isFraud  isFlaggedFraud  errorBalanceOrig  \\\n",
              "2             0.00        1               0              0.00   \n",
              "3             0.00        1               0              0.00   \n",
              "15        51513.44        0               0         213808.94   \n",
              "19            0.00        0               0         214605.30   \n",
              "24      2719172.89        0               0         300850.89   \n",
              "42         2415.16        0               0          83569.30   \n",
              "47        64106.18        0               0          55011.88   \n",
              "48      6453430.91        0               0           5346.89   \n",
              "51            0.00        0               0           2849.77   \n",
              "58         8383.29        0               0              0.00   \n",
              "\n",
              "    errorBalanceDest  \n",
              "2             181.00  \n",
              "3           21363.00  \n",
              "15         182703.50  \n",
              "19         237735.30  \n",
              "24       -2401220.00  \n",
              "42         396799.55  \n",
              "47          63100.72  \n",
              "48       -5795447.02  \n",
              "51          49003.30  \n",
              "58          54744.51  "
            ]
          },
          "execution_count": 49,
          "metadata": {},
          "output_type": "execute_result"
        }
      ],
      "source": [
        "# looking at the head of the data\n",
        "\n",
        "X.head(10)"
      ]
    },
    {
      "cell_type": "code",
      "execution_count": null,
      "metadata": {
        "id": "LHEl9b2_eb87",
        "outputId": "f338f00f-7564-4b75-fbbb-b722f7ba0979"
      },
      "outputs": [
        {
          "data": {
            "text/plain": [
              "False"
            ]
          },
          "execution_count": 51,
          "metadata": {},
          "output_type": "execute_result"
        }
      ],
      "source": [
        "# checking if the dataset contains any NULL values\n",
        "\n",
        "X.isnull().any().any()"
      ]
    },
    {
      "cell_type": "code",
      "execution_count": null,
      "metadata": {
        "id": "7D9fGSDEeb88",
        "outputId": "7b171e7e-cb40-40ca-bfa0-7be22c1c9e74"
      },
      "outputs": [
        {
          "name": "stderr",
          "output_type": "stream",
          "text": [
            "C:\\ProgramData\\Anaconda3\\lib\\site-packages\\seaborn\\distributions.py:369: UserWarning: Default bandwidth for data is 0; skipping density estimation.\n",
            "  warnings.warn(msg, UserWarning)\n"
          ]
        },
        {
          "data": {
            "image/png": "[encoded data removed]",
            "text/plain": [
              "<Figure size 1512x504 with 2 Axes>"
            ]
          },
          "metadata": {
            "needs_background": "light"
          },
          "output_type": "display_data"
        }
      ],
      "source": [
        "# visualizing the distribution of errorbalance\n",
        "\n",
        "# setting the size of the plot\n",
        "plt.rcParams['figure.figsize'] = (21, 7)\n",
        "\n",
        "plt.subplot(121)\n",
        "sns.distplot(X['errorBalanceOrig'], color = 'red')\n",
        "plt.title('Error Balance of Origin', fontsize = 20)\n",
        "\n",
        "plt.subplot(122)\n",
        "sns.distplot(X['errorBalanceDest'], color = 'red')\n",
        "plt.title('Error Balance of Destination', fontsize = 20)\n",
        "\n",
        "plt.show()"
      ]
    },
    {
      "cell_type": "code",
      "execution_count": null,
      "metadata": {
        "id": "fJknbyZbeb89",
        "outputId": "77a836b0-6df8-4527-aaa8-8e135d6a454c"
      },
      "outputs": [
        {
          "data": {
            "text/plain": [
              "0    2762196\n",
              "1       8213\n",
              "Name: isFraud, dtype: int64"
            ]
          },
          "execution_count": 54,
          "metadata": {},
          "output_type": "execute_result"
        }
      ],
      "source": [
        "X['isFraud'].value_counts()"
      ]
    },
    {
      "cell_type": "code",
      "execution_count": null,
      "metadata": {
        "id": "KkFLlSz3eb8-",
        "outputId": "a0e24711-90b7-4f01-d38c-14caf3350a36"
      },
      "outputs": [
        {
          "name": "stdout",
          "output_type": "stream",
          "text": [
            "Shape of x:  (2770409, 10)\n",
            "Shape of y:  (2770409,)\n"
          ]
        }
      ],
      "source": [
        "# making our independent set\n",
        "\n",
        "Y = X['isFraud']\n",
        "\n",
        "# removing the dependent set\n",
        "X = X.drop(['isFraud'], axis = 1)\n",
        "\n",
        "# getting the shapes of x and y\n",
        "print(\"Shape of x: \", X.shape)\n",
        "print(\"Shape of y: \", Y.shape)"
      ]
    },
    {
      "cell_type": "code",
      "execution_count": null,
      "metadata": {
        "id": "xFEPmTlZeb8-",
        "outputId": "6565cd37-d591-4544-c8e1-7673e6a4ca8e"
      },
      "outputs": [
        {
          "data": {
            "text/html": [
              "<div>\n",
              "<style scoped>\n",
              "    .dataframe tbody tr th:only-of-type {\n",
              "        vertical-align: middle;\n",
              "    }\n",
              "\n",
              "    .dataframe tbody tr th {\n",
              "        vertical-align: top;\n",
              "    }\n",
              "\n",
              "    .dataframe thead th {\n",
              "        text-align: right;\n",
              "    }\n",
              "</style>\n",
              "<table border=\"1\" class=\"dataframe\">\n",
              "  <thead>\n",
              "    <tr style=\"text-align: right;\">\n",
              "      <th></th>\n",
              "      <th>step</th>\n",
              "      <th>type</th>\n",
              "      <th>amount</th>\n",
              "      <th>oldbalanceOrg</th>\n",
              "      <th>newbalanceOrig</th>\n",
              "      <th>oldbalanceDest</th>\n",
              "      <th>newbalanceDest</th>\n",
              "      <th>isFlaggedFraud</th>\n",
              "      <th>errorBalanceOrig</th>\n",
              "      <th>errorBalanceDest</th>\n",
              "    </tr>\n",
              "  </thead>\n",
              "  <tbody>\n",
              "    <tr>\n",
              "      <th>2</th>\n",
              "      <td>1</td>\n",
              "      <td>0</td>\n",
              "      <td>181.00</td>\n",
              "      <td>181.0</td>\n",
              "      <td>0.0</td>\n",
              "      <td>0.0</td>\n",
              "      <td>0.00</td>\n",
              "      <td>0</td>\n",
              "      <td>0.00</td>\n",
              "      <td>181.0</td>\n",
              "    </tr>\n",
              "    <tr>\n",
              "      <th>3</th>\n",
              "      <td>1</td>\n",
              "      <td>1</td>\n",
              "      <td>181.00</td>\n",
              "      <td>181.0</td>\n",
              "      <td>0.0</td>\n",
              "      <td>21182.0</td>\n",
              "      <td>0.00</td>\n",
              "      <td>0</td>\n",
              "      <td>0.00</td>\n",
              "      <td>21363.0</td>\n",
              "    </tr>\n",
              "    <tr>\n",
              "      <th>15</th>\n",
              "      <td>1</td>\n",
              "      <td>1</td>\n",
              "      <td>229133.94</td>\n",
              "      <td>15325.0</td>\n",
              "      <td>0.0</td>\n",
              "      <td>5083.0</td>\n",
              "      <td>51513.44</td>\n",
              "      <td>0</td>\n",
              "      <td>213808.94</td>\n",
              "      <td>182703.5</td>\n",
              "    </tr>\n",
              "    <tr>\n",
              "      <th>19</th>\n",
              "      <td>1</td>\n",
              "      <td>0</td>\n",
              "      <td>215310.30</td>\n",
              "      <td>705.0</td>\n",
              "      <td>0.0</td>\n",
              "      <td>22425.0</td>\n",
              "      <td>0.00</td>\n",
              "      <td>0</td>\n",
              "      <td>214605.30</td>\n",
              "      <td>237735.3</td>\n",
              "    </tr>\n",
              "    <tr>\n",
              "      <th>24</th>\n",
              "      <td>1</td>\n",
              "      <td>0</td>\n",
              "      <td>311685.89</td>\n",
              "      <td>10835.0</td>\n",
              "      <td>0.0</td>\n",
              "      <td>6267.0</td>\n",
              "      <td>2719172.89</td>\n",
              "      <td>0</td>\n",
              "      <td>300850.89</td>\n",
              "      <td>-2401220.0</td>\n",
              "    </tr>\n",
              "  </tbody>\n",
              "</table>\n",
              "</div>"
            ],
            "text/plain": [
              "    step  type     amount  oldbalanceOrg  newbalanceOrig  oldbalanceDest  \\\n",
              "2      1     0     181.00          181.0             0.0             0.0   \n",
              "3      1     1     181.00          181.0             0.0         21182.0   \n",
              "15     1     1  229133.94        15325.0             0.0          5083.0   \n",
              "19     1     0  215310.30          705.0             0.0         22425.0   \n",
              "24     1     0  311685.89        10835.0             0.0          6267.0   \n",
              "\n",
              "    newbalanceDest  isFlaggedFraud  errorBalanceOrig  errorBalanceDest  \n",
              "2             0.00               0              0.00             181.0  \n",
              "3             0.00               0              0.00           21363.0  \n",
              "15        51513.44               0         213808.94          182703.5  \n",
              "19            0.00               0         214605.30          237735.3  \n",
              "24      2719172.89               0         300850.89        -2401220.0  "
            ]
          },
          "execution_count": 56,
          "metadata": {},
          "output_type": "execute_result"
        }
      ],
      "source": [
        "X.head()"
      ]
    },
    {
      "cell_type": "code",
      "execution_count": null,
      "metadata": {
        "id": "e8iyv7peeb8-"
      },
      "outputs": [],
      "source": [
        "#change the values 0 and 1 to 'yes' and 'no'. It'll help on the data description and analysis sections.\n",
        "data['isFraud'] = data['isFraud'].map({1: 'yes', 0: 'no'})\n",
        "data['isFlaggedFraud'] = data['isFlaggedFraud'].map({1: 'yes', 0: 'no'})"
      ]
    },
    {
      "cell_type": "code",
      "execution_count": null,
      "metadata": {
        "id": "phThKLNOeb8_"
      },
      "outputs": [],
      "source": [
        "# Description Statistics\n",
        "num_attributes = data.select_dtypes(exclude='object')\n",
        "cat_attributes = data.select_dtypes(include='object')"
      ]
    },
    {
      "cell_type": "code",
      "execution_count": null,
      "metadata": {
        "id": "rWf9VuOOeb8_",
        "outputId": "33758f78-992a-4455-e194-5ffa0c6d9b6c"
      },
      "outputs": [
        {
          "data": {
            "text/html": [
              "<div>\n",
              "<style scoped>\n",
              "    .dataframe tbody tr th:only-of-type {\n",
              "        vertical-align: middle;\n",
              "    }\n",
              "\n",
              "    .dataframe tbody tr th {\n",
              "        vertical-align: top;\n",
              "    }\n",
              "\n",
              "    .dataframe thead th {\n",
              "        text-align: right;\n",
              "    }\n",
              "</style>\n",
              "<table border=\"1\" class=\"dataframe\">\n",
              "  <thead>\n",
              "    <tr style=\"text-align: right;\">\n",
              "      <th></th>\n",
              "      <th>count</th>\n",
              "      <th>mean</th>\n",
              "      <th>std</th>\n",
              "      <th>min</th>\n",
              "      <th>25%</th>\n",
              "      <th>50%</th>\n",
              "      <th>75%</th>\n",
              "      <th>max</th>\n",
              "      <th>range</th>\n",
              "      <th>variation coefficient</th>\n",
              "      <th>skew</th>\n",
              "      <th>kurtosis</th>\n",
              "    </tr>\n",
              "  </thead>\n",
              "  <tbody>\n",
              "    <tr>\n",
              "      <th>step</th>\n",
              "      <td>6362620.0</td>\n",
              "      <td>2.433972e+02</td>\n",
              "      <td>1.423320e+02</td>\n",
              "      <td>1.0</td>\n",
              "      <td>156.00</td>\n",
              "      <td>239.000</td>\n",
              "      <td>3.350000e+02</td>\n",
              "      <td>7.430000e+02</td>\n",
              "      <td>7.420000e+02</td>\n",
              "      <td>0.584772</td>\n",
              "      <td>0.375177</td>\n",
              "      <td>0.329071</td>\n",
              "    </tr>\n",
              "    <tr>\n",
              "      <th>amount</th>\n",
              "      <td>6362620.0</td>\n",
              "      <td>1.798619e+05</td>\n",
              "      <td>6.038582e+05</td>\n",
              "      <td>0.0</td>\n",
              "      <td>13389.57</td>\n",
              "      <td>74871.940</td>\n",
              "      <td>2.087215e+05</td>\n",
              "      <td>9.244552e+07</td>\n",
              "      <td>9.244552e+07</td>\n",
              "      <td>3.357344</td>\n",
              "      <td>30.993949</td>\n",
              "      <td>1797.956705</td>\n",
              "    </tr>\n",
              "    <tr>\n",
              "      <th>oldbalanceOrg</th>\n",
              "      <td>6362620.0</td>\n",
              "      <td>8.338831e+05</td>\n",
              "      <td>2.888243e+06</td>\n",
              "      <td>0.0</td>\n",
              "      <td>0.00</td>\n",
              "      <td>14208.000</td>\n",
              "      <td>1.073152e+05</td>\n",
              "      <td>5.958504e+07</td>\n",
              "      <td>5.958504e+07</td>\n",
              "      <td>3.463606</td>\n",
              "      <td>5.249136</td>\n",
              "      <td>32.964879</td>\n",
              "    </tr>\n",
              "    <tr>\n",
              "      <th>newbalanceOrig</th>\n",
              "      <td>6362620.0</td>\n",
              "      <td>8.551137e+05</td>\n",
              "      <td>2.924049e+06</td>\n",
              "      <td>0.0</td>\n",
              "      <td>0.00</td>\n",
              "      <td>0.000</td>\n",
              "      <td>1.442584e+05</td>\n",
              "      <td>4.958504e+07</td>\n",
              "      <td>4.958504e+07</td>\n",
              "      <td>3.419485</td>\n",
              "      <td>5.176884</td>\n",
              "      <td>32.066985</td>\n",
              "    </tr>\n",
              "    <tr>\n",
              "      <th>oldbalanceDest</th>\n",
              "      <td>6362620.0</td>\n",
              "      <td>1.100702e+06</td>\n",
              "      <td>3.399180e+06</td>\n",
              "      <td>0.0</td>\n",
              "      <td>0.00</td>\n",
              "      <td>132705.665</td>\n",
              "      <td>9.430367e+05</td>\n",
              "      <td>3.560159e+08</td>\n",
              "      <td>3.560159e+08</td>\n",
              "      <td>3.088194</td>\n",
              "      <td>19.921758</td>\n",
              "      <td>948.674125</td>\n",
              "    </tr>\n",
              "    <tr>\n",
              "      <th>newbalanceDest</th>\n",
              "      <td>6362620.0</td>\n",
              "      <td>1.224996e+06</td>\n",
              "      <td>3.674129e+06</td>\n",
              "      <td>0.0</td>\n",
              "      <td>0.00</td>\n",
              "      <td>214661.440</td>\n",
              "      <td>1.111909e+06</td>\n",
              "      <td>3.561793e+08</td>\n",
              "      <td>3.561793e+08</td>\n",
              "      <td>2.999298</td>\n",
              "      <td>19.352302</td>\n",
              "      <td>862.156508</td>\n",
              "    </tr>\n",
              "  </tbody>\n",
              "</table>\n",
              "</div>"
            ],
            "text/plain": [
              "                    count          mean           std  min       25%  \\\n",
              "step            6362620.0  2.433972e+02  1.423320e+02  1.0    156.00   \n",
              "amount          6362620.0  1.798619e+05  6.038582e+05  0.0  13389.57   \n",
              "oldbalanceOrg   6362620.0  8.338831e+05  2.888243e+06  0.0      0.00   \n",
              "newbalanceOrig  6362620.0  8.551137e+05  2.924049e+06  0.0      0.00   \n",
              "oldbalanceDest  6362620.0  1.100702e+06  3.399180e+06  0.0      0.00   \n",
              "newbalanceDest  6362620.0  1.224996e+06  3.674129e+06  0.0      0.00   \n",
              "\n",
              "                       50%           75%           max         range  \\\n",
              "step               239.000  3.350000e+02  7.430000e+02  7.420000e+02   \n",
              "amount           74871.940  2.087215e+05  9.244552e+07  9.244552e+07   \n",
              "oldbalanceOrg    14208.000  1.073152e+05  5.958504e+07  5.958504e+07   \n",
              "newbalanceOrig       0.000  1.442584e+05  4.958504e+07  4.958504e+07   \n",
              "oldbalanceDest  132705.665  9.430367e+05  3.560159e+08  3.560159e+08   \n",
              "newbalanceDest  214661.440  1.111909e+06  3.561793e+08  3.561793e+08   \n",
              "\n",
              "                variation coefficient       skew     kurtosis  \n",
              "step                         0.584772   0.375177     0.329071  \n",
              "amount                       3.357344  30.993949  1797.956705  \n",
              "oldbalanceOrg                3.463606   5.249136    32.964879  \n",
              "newbalanceOrig               3.419485   5.176884    32.066985  \n",
              "oldbalanceDest               3.088194  19.921758   948.674125  \n",
              "newbalanceDest               2.999298  19.352302   862.156508  "
            ]
          },
          "execution_count": 73,
          "metadata": {},
          "output_type": "execute_result"
        }
      ],
      "source": [
        "# Numerical Attributes\n",
        "\n",
        "describe = num_attributes.describe().T\n",
        "\n",
        "describe['range'] = (num_attributes.max() - num_attributes.min()).tolist()\n",
        "describe['variation coefficient'] = (num_attributes.std() / num_attributes.mean()).tolist()\n",
        "describe['skew'] = num_attributes.skew().tolist()\n",
        "describe['kurtosis'] = num_attributes.kurtosis().tolist()\n",
        "\n",
        "describe"
      ]
    },
    {
      "cell_type": "code",
      "execution_count": null,
      "metadata": {
        "id": "g0KN2k9leb9A"
      },
      "outputs": [],
      "source": [
        "df = data.copy()"
      ]
    },
    {
      "cell_type": "code",
      "execution_count": null,
      "metadata": {
        "id": "qKXk_NhGeb9A"
      },
      "outputs": [],
      "source": [
        "X = df.drop(columns=['isFraud', 'isFlaggedFraud'], axis=1)\n",
        "y = df['isFraud'].map({'yes': 1, 'no': 0})"
      ]
    },
    {
      "cell_type": "code",
      "execution_count": null,
      "metadata": {
        "id": "hr3Q51v-eb9B"
      },
      "outputs": [],
      "source": [
        "# spliting into temp and test\n",
        "X_temp, X_test, y_temp, y_test = train_test_split(X, y, test_size=.2, stratify=y)"
      ]
    },
    {
      "cell_type": "code",
      "execution_count": null,
      "metadata": {
        "id": "Eq2yupvxeb9B"
      },
      "outputs": [],
      "source": [
        "# spliting into train and valid\n",
        "X_train, X_valid, y_train, y_valid = train_test_split(X_temp, y_temp, test_size=.2, stratify=y_temp)"
      ]
    },
    {
      "cell_type": "code",
      "execution_count": null,
      "metadata": {
        "id": "vNBHulireb9B"
      },
      "outputs": [],
      "source": [
        "ohe = OneHotEncoder(cols=['type'], use_cat_names=True)\n",
        "\n",
        "X_train = ohe.fit_transform(X_train)\n",
        "X_valid = ohe.transform(X_valid)\n",
        "\n",
        "X_temp = ohe.fit_transform(X_temp)\n",
        "X_test = ohe.transform(X_test)"
      ]
    },
    {
      "cell_type": "code",
      "execution_count": null,
      "metadata": {
        "id": "zlgD1Xwzeb9B"
      },
      "outputs": [],
      "source": [
        "num_columns = ['amount', 'oldbalance_org', 'newbalance_orig', 'oldbalance_dest', 'newbalance_dest',\n",
        "               'diff_new_old_balance', 'diff_new_old_destiny']\n",
        "mm = MinMaxScaler()\n",
        "X_params = X_temp.copy()\n",
        "\n",
        "X_train[num_columns] = mm.fit_transform(X_train[num_columns])\n",
        "X_valid[num_columns] = mm.transform(X_valid[num_columns])\n",
        "\n",
        "X_params[num_columns] = mm.fit_transform(X_temp[num_columns])\n",
        "X_test[num_columns] = mm.transform(X_test[num_columns])"
      ]
    },
    {
      "cell_type": "code",
      "execution_count": null,
      "metadata": {
        "id": "gylhgaRDeb9C"
      },
      "outputs": [],
      "source": [
        "final_columns_selected = ['step', 'oldbalance_org',\n",
        "                          'newbalance_orig', 'newbalance_dest',\n",
        "                          'diff_new_old_balance', 'diff_new_old_destiny',\n",
        "                          'type_TRANSFER']"
      ]
    },
    {
      "cell_type": "code",
      "execution_count": null,
      "metadata": {
        "id": "goPiYvdKeb9C"
      },
      "outputs": [],
      "source": [
        "#ML Model\n",
        "\n",
        "\n",
        "X_train_cs = X_train[final_columns_selected]\n",
        "X_valid_cs = X_valid[final_columns_selected]\n",
        "\n",
        "X_temp_cs = X_temp[final_columns_selected]\n",
        "X_test_cs = X_test[final_columns_selected]\n",
        "\n",
        "X_params_cs = X_params[final_columns_selected]"
      ]
    },
    {
      "cell_type": "code",
      "execution_count": null,
      "metadata": {
        "id": "MmG7y81Teb9C"
      },
      "outputs": [],
      "source": [
        "dummy = DummyClassifier()\n",
        "dummy.fit(X_train_cs, y_train)\n",
        "\n",
        "y_pred = dummy.predict(X_valid_cs)"
      ]
    },
    {
      "cell_type": "code",
      "execution_count": null,
      "metadata": {
        "id": "c8acBlhpeb9C"
      },
      "outputs": [],
      "source": [
        "dummy_results = ml_scores('dummy', y_valid, y_pred)\n",
        "dummy_results\n"
      ]
    },
    {
      "cell_type": "code",
      "execution_count": null,
      "metadata": {
        "id": "lo8bGGxgeb9D"
      },
      "outputs": [],
      "source": [
        "print(classification_report(y_valid, y_pred))"
      ]
    },
    {
      "cell_type": "code",
      "execution_count": null,
      "metadata": {
        "id": "G3QTkl3Yeb9D"
      },
      "outputs": [],
      "source": [
        "dummy_cv = ml_cv_results('Dummy', DummyClassifier(), X_temp, y_temp)\n",
        "dummy_cv"
      ]
    },
    {
      "cell_type": "code",
      "execution_count": null,
      "metadata": {
        "id": "vEGqnoTEeb9D"
      },
      "outputs": [],
      "source": [
        "#Logistic Regression\n",
        "lg = LogisticRegression()\n",
        "lg.fit(X_train_cs, y_train)\n",
        "\n",
        "y_pred = lg.predict(X_valid_cs)"
      ]
    },
    {
      "cell_type": "code",
      "execution_count": null,
      "metadata": {
        "id": "x1XaUVJxeb9D"
      },
      "outputs": [],
      "source": [
        "lg_results = ml_scores('Logistic Regression', y_valid, y_pred)\n",
        "lg_results"
      ]
    },
    {
      "cell_type": "code",
      "execution_count": null,
      "metadata": {
        "id": "8eaKczZ9eb9D"
      },
      "outputs": [],
      "source": [
        "#Random Forest\n",
        "rf = RandomForestClassifier(class_weight='balanced')\n",
        "rf.fit(X_train_cs, y_train)\n",
        "\n",
        "y_pred = rf.predict(X_valid_cs)"
      ]
    },
    {
      "cell_type": "code",
      "execution_count": null,
      "metadata": {
        "id": "e2gLwdV2eb9D"
      },
      "outputs": [],
      "source": [
        "rf_results = ml_scores('Random Forest', y_valid, y_pred)\n",
        "rf_results\n"
      ]
    },
    {
      "cell_type": "code",
      "execution_count": null,
      "metadata": {
        "id": "JDxVyo8Keb9E"
      },
      "outputs": [],
      "source": []
    }
  ],
  "metadata": {
    "kernelspec": {
      "display_name": "Python 3",
      "language": "python",
      "name": "python3"
    },
    "language_info": {
      "codemirror_mode": {
        "name": "ipython",
        "version": 3
      },
      "file_extension": ".py",
      "mimetype": "text/x-python",
      "name": "python",
      "nbconvert_exporter": "python",
      "pygments_lexer": "ipython3",
      "version": "3.8.3"
    },
    "colab": {
      "provenance": []
    }
  },
  "nbformat": 4,
  "nbformat_minor": 0
}